{
 "cells": [
  {
   "cell_type": "markdown",
   "source": [
    "What is Green Coffee Inventory?\n",
    "\n",
    "GREEN COFFEE INVENTORY means all green coffee that Company owns, which is fresh and from the current green coffee crop (1998 / 1999 season), of good quality and free of flavor defects, at the Closing Date. In no event shall Green Coffee Inventory be used for Finished Product Inventory unless, there is a corresponding price decrease ($1.53 per pound) to the Finished Product Inventory, as agreed by Buyer."
   ],
   "metadata": {
    "collapsed": false
   }
  },
  {
   "cell_type": "code",
   "execution_count": 1,
   "outputs": [],
   "source": [
    "import pandas as pd\n",
    "import plotly.express as px"
   ],
   "metadata": {
    "collapsed": false,
    "ExecuteTime": {
     "end_time": "2023-06-25T14:24:22.052155Z",
     "start_time": "2023-06-25T14:24:21.558058Z"
    }
   }
  },
  {
   "cell_type": "code",
   "execution_count": 2,
   "outputs": [
    {
     "data": {
      "text/plain": "                     Country       1990       1991       1992       1993  \\\n0                    Austria   19980000   19980000   22020000   19980000   \n1                     Cyprus     600000     720000     600000     480000   \n2                    Denmark    5340000    5340000    5340000    5340000   \n3                    Finland   10560000   13380000   12780000   11280000   \n4                     France   34380000   33720000   32220000   23340000   \n5                    Germany  240000000   96000000  150000000  120000000   \n6                    Ireland          0          0          0          0   \n7                      Italy   12900000   11340000   11220000   13680000   \n8                Netherlands  105120000  105120000   62880000   42420000   \n9                   Portugal    4080000    8580000    7260000   13200000   \n10                     Spain   12000000   15000000   19980000   15000000   \n11                    Sweden    5220000    5220000    5220000    5220000   \n12                     Japan   90000000   70020000   79980000   75000000   \n13                    Norway    7440000    7440000    7440000    7440000   \n14               Switzerland   19260000   21060000   18120000   19620000   \n15            United Kingdom   11340000   10080000   10200000   12240000   \n16  United States of America  358920000  369000000  565320000  468840000   \n17     Unspecified EU stocks  145980000  165480000  149100000  115200000   \n\n         1994       1995      1996       1997      1998  ...       2011  \\\n0    16980000   16440000  14760000   13860000  12600000  ...    6660000   \n1      780000     780000    720000     360000    540000  ...     360000   \n2     5340000    5340000   5340000    5340000   5340000  ...    5340000   \n3    16920000   13200000   8400000   10860000   9720000  ...    4980000   \n4    28860000   18060000  15960000   19020000  21000000  ...   24840000   \n5   234000000  138000000  96000000  114000000  96000000  ...  147720000   \n6           0          0         0          0         0  ...     360000   \n7    13320000   13020000  13380000   13620000  14040000  ...   19740000   \n8    42420000   42420000  42420000   42420000  42420000  ...   42420000   \n9     9540000    5160000   6900000    7860000   6060000  ...    5400000   \n10   16020000   17040000  18180000   19380000  20640000  ...   34200000   \n11    5220000    5220000   5220000    5220000   5220000  ...    5220000   \n12   88020000   49980000  58980000   55020000  52980000  ...  132240000   \n13    7440000    7440000   7440000    7440000   7440000  ...    7440000   \n14   17160000   11580000   8400000    7080000   9900000  ...   12180000   \n15   12780000   11220000   7920000    6600000   7680000  ...    2460000   \n16  245220000  119400000  79620000   85680000  84480000  ...  257700000   \n17  127320000   82860000  73320000   93060000  96180000  ...  409680000   \n\n         2012       2013       2014       2015       2016       2017  \\\n0     5820000    5520000    5760000    5760000    5400000    4800000   \n1      240000     420000     720000     360000     120000     180000   \n2     5340000    5340000    5340000    5340000    5340000    5340000   \n3     4980000    4980000    4980000    4980000    4980000    4980000   \n4    26760000   26280000   29940000   30420000   34320000   28500000   \n5   171540000  158160000  187200000  211140000  239460000  216060000   \n6      420000     360000     360000     240000     240000     180000   \n7    20760000   21120000   22260000   22200000   24180000   23760000   \n8    42420000   42420000   42420000   42420000   42420000   42420000   \n9     6600000    7200000    6000000    7740000    7740000    7740000   \n10   34200000   50220000   38400000   38220000   44040000   43380000   \n11    5220000    5220000    5220000    5220000    5220000    5220000   \n12  121620000  172860000  176040000  191100000  193740000  181260000   \n13    7440000    7440000    7440000    7440000    7440000    7440000   \n14   12540000   12360000   12360000   13020000   13140000   22080000   \n15    2460000    2340000    2400000    2580000    1560000    1200000   \n16  284160000  305220000  331500000  350160000  375360000  397920000   \n17  366720000  320160000  450060000  447840000  417240000  422100000   \n\n         2018       2019  Total_inventorie  \n0     4800000    4800000         306660000  \n1      300000          0          14520000  \n2     5340000    5340000         160200000  \n3     4980000    4980000         219120000  \n4    27840000   27120000         843120000  \n5   211080000  208740000        5179440000  \n6      180000     180000           6540000  \n7    25260000   25680000         523440000  \n8    42420000   42420000        1418460000  \n9     7740000    7740000         221460000  \n10   42900000   40200000         865440000  \n11    5220000    5220000         156600000  \n12  156180000  176040000        3369300000  \n13    7440000    7440000         223200000  \n14   20280000   22740000         398100000  \n15    1860000    2160000         186120000  \n16  367980000  410100000        8984400000  \n17  485520000  536100000        9457860000  \n\n[18 rows x 32 columns]",
      "text/html": "<div>\n<style scoped>\n    .dataframe tbody tr th:only-of-type {\n        vertical-align: middle;\n    }\n\n    .dataframe tbody tr th {\n        vertical-align: top;\n    }\n\n    .dataframe thead th {\n        text-align: right;\n    }\n</style>\n<table border=\"1\" class=\"dataframe\">\n  <thead>\n    <tr style=\"text-align: right;\">\n      <th></th>\n      <th>Country</th>\n      <th>1990</th>\n      <th>1991</th>\n      <th>1992</th>\n      <th>1993</th>\n      <th>1994</th>\n      <th>1995</th>\n      <th>1996</th>\n      <th>1997</th>\n      <th>1998</th>\n      <th>...</th>\n      <th>2011</th>\n      <th>2012</th>\n      <th>2013</th>\n      <th>2014</th>\n      <th>2015</th>\n      <th>2016</th>\n      <th>2017</th>\n      <th>2018</th>\n      <th>2019</th>\n      <th>Total_inventorie</th>\n    </tr>\n  </thead>\n  <tbody>\n    <tr>\n      <th>0</th>\n      <td>Austria</td>\n      <td>19980000</td>\n      <td>19980000</td>\n      <td>22020000</td>\n      <td>19980000</td>\n      <td>16980000</td>\n      <td>16440000</td>\n      <td>14760000</td>\n      <td>13860000</td>\n      <td>12600000</td>\n      <td>...</td>\n      <td>6660000</td>\n      <td>5820000</td>\n      <td>5520000</td>\n      <td>5760000</td>\n      <td>5760000</td>\n      <td>5400000</td>\n      <td>4800000</td>\n      <td>4800000</td>\n      <td>4800000</td>\n      <td>306660000</td>\n    </tr>\n    <tr>\n      <th>1</th>\n      <td>Cyprus</td>\n      <td>600000</td>\n      <td>720000</td>\n      <td>600000</td>\n      <td>480000</td>\n      <td>780000</td>\n      <td>780000</td>\n      <td>720000</td>\n      <td>360000</td>\n      <td>540000</td>\n      <td>...</td>\n      <td>360000</td>\n      <td>240000</td>\n      <td>420000</td>\n      <td>720000</td>\n      <td>360000</td>\n      <td>120000</td>\n      <td>180000</td>\n      <td>300000</td>\n      <td>0</td>\n      <td>14520000</td>\n    </tr>\n    <tr>\n      <th>2</th>\n      <td>Denmark</td>\n      <td>5340000</td>\n      <td>5340000</td>\n      <td>5340000</td>\n      <td>5340000</td>\n      <td>5340000</td>\n      <td>5340000</td>\n      <td>5340000</td>\n      <td>5340000</td>\n      <td>5340000</td>\n      <td>...</td>\n      <td>5340000</td>\n      <td>5340000</td>\n      <td>5340000</td>\n      <td>5340000</td>\n      <td>5340000</td>\n      <td>5340000</td>\n      <td>5340000</td>\n      <td>5340000</td>\n      <td>5340000</td>\n      <td>160200000</td>\n    </tr>\n    <tr>\n      <th>3</th>\n      <td>Finland</td>\n      <td>10560000</td>\n      <td>13380000</td>\n      <td>12780000</td>\n      <td>11280000</td>\n      <td>16920000</td>\n      <td>13200000</td>\n      <td>8400000</td>\n      <td>10860000</td>\n      <td>9720000</td>\n      <td>...</td>\n      <td>4980000</td>\n      <td>4980000</td>\n      <td>4980000</td>\n      <td>4980000</td>\n      <td>4980000</td>\n      <td>4980000</td>\n      <td>4980000</td>\n      <td>4980000</td>\n      <td>4980000</td>\n      <td>219120000</td>\n    </tr>\n    <tr>\n      <th>4</th>\n      <td>France</td>\n      <td>34380000</td>\n      <td>33720000</td>\n      <td>32220000</td>\n      <td>23340000</td>\n      <td>28860000</td>\n      <td>18060000</td>\n      <td>15960000</td>\n      <td>19020000</td>\n      <td>21000000</td>\n      <td>...</td>\n      <td>24840000</td>\n      <td>26760000</td>\n      <td>26280000</td>\n      <td>29940000</td>\n      <td>30420000</td>\n      <td>34320000</td>\n      <td>28500000</td>\n      <td>27840000</td>\n      <td>27120000</td>\n      <td>843120000</td>\n    </tr>\n    <tr>\n      <th>5</th>\n      <td>Germany</td>\n      <td>240000000</td>\n      <td>96000000</td>\n      <td>150000000</td>\n      <td>120000000</td>\n      <td>234000000</td>\n      <td>138000000</td>\n      <td>96000000</td>\n      <td>114000000</td>\n      <td>96000000</td>\n      <td>...</td>\n      <td>147720000</td>\n      <td>171540000</td>\n      <td>158160000</td>\n      <td>187200000</td>\n      <td>211140000</td>\n      <td>239460000</td>\n      <td>216060000</td>\n      <td>211080000</td>\n      <td>208740000</td>\n      <td>5179440000</td>\n    </tr>\n    <tr>\n      <th>6</th>\n      <td>Ireland</td>\n      <td>0</td>\n      <td>0</td>\n      <td>0</td>\n      <td>0</td>\n      <td>0</td>\n      <td>0</td>\n      <td>0</td>\n      <td>0</td>\n      <td>0</td>\n      <td>...</td>\n      <td>360000</td>\n      <td>420000</td>\n      <td>360000</td>\n      <td>360000</td>\n      <td>240000</td>\n      <td>240000</td>\n      <td>180000</td>\n      <td>180000</td>\n      <td>180000</td>\n      <td>6540000</td>\n    </tr>\n    <tr>\n      <th>7</th>\n      <td>Italy</td>\n      <td>12900000</td>\n      <td>11340000</td>\n      <td>11220000</td>\n      <td>13680000</td>\n      <td>13320000</td>\n      <td>13020000</td>\n      <td>13380000</td>\n      <td>13620000</td>\n      <td>14040000</td>\n      <td>...</td>\n      <td>19740000</td>\n      <td>20760000</td>\n      <td>21120000</td>\n      <td>22260000</td>\n      <td>22200000</td>\n      <td>24180000</td>\n      <td>23760000</td>\n      <td>25260000</td>\n      <td>25680000</td>\n      <td>523440000</td>\n    </tr>\n    <tr>\n      <th>8</th>\n      <td>Netherlands</td>\n      <td>105120000</td>\n      <td>105120000</td>\n      <td>62880000</td>\n      <td>42420000</td>\n      <td>42420000</td>\n      <td>42420000</td>\n      <td>42420000</td>\n      <td>42420000</td>\n      <td>42420000</td>\n      <td>...</td>\n      <td>42420000</td>\n      <td>42420000</td>\n      <td>42420000</td>\n      <td>42420000</td>\n      <td>42420000</td>\n      <td>42420000</td>\n      <td>42420000</td>\n      <td>42420000</td>\n      <td>42420000</td>\n      <td>1418460000</td>\n    </tr>\n    <tr>\n      <th>9</th>\n      <td>Portugal</td>\n      <td>4080000</td>\n      <td>8580000</td>\n      <td>7260000</td>\n      <td>13200000</td>\n      <td>9540000</td>\n      <td>5160000</td>\n      <td>6900000</td>\n      <td>7860000</td>\n      <td>6060000</td>\n      <td>...</td>\n      <td>5400000</td>\n      <td>6600000</td>\n      <td>7200000</td>\n      <td>6000000</td>\n      <td>7740000</td>\n      <td>7740000</td>\n      <td>7740000</td>\n      <td>7740000</td>\n      <td>7740000</td>\n      <td>221460000</td>\n    </tr>\n    <tr>\n      <th>10</th>\n      <td>Spain</td>\n      <td>12000000</td>\n      <td>15000000</td>\n      <td>19980000</td>\n      <td>15000000</td>\n      <td>16020000</td>\n      <td>17040000</td>\n      <td>18180000</td>\n      <td>19380000</td>\n      <td>20640000</td>\n      <td>...</td>\n      <td>34200000</td>\n      <td>34200000</td>\n      <td>50220000</td>\n      <td>38400000</td>\n      <td>38220000</td>\n      <td>44040000</td>\n      <td>43380000</td>\n      <td>42900000</td>\n      <td>40200000</td>\n      <td>865440000</td>\n    </tr>\n    <tr>\n      <th>11</th>\n      <td>Sweden</td>\n      <td>5220000</td>\n      <td>5220000</td>\n      <td>5220000</td>\n      <td>5220000</td>\n      <td>5220000</td>\n      <td>5220000</td>\n      <td>5220000</td>\n      <td>5220000</td>\n      <td>5220000</td>\n      <td>...</td>\n      <td>5220000</td>\n      <td>5220000</td>\n      <td>5220000</td>\n      <td>5220000</td>\n      <td>5220000</td>\n      <td>5220000</td>\n      <td>5220000</td>\n      <td>5220000</td>\n      <td>5220000</td>\n      <td>156600000</td>\n    </tr>\n    <tr>\n      <th>12</th>\n      <td>Japan</td>\n      <td>90000000</td>\n      <td>70020000</td>\n      <td>79980000</td>\n      <td>75000000</td>\n      <td>88020000</td>\n      <td>49980000</td>\n      <td>58980000</td>\n      <td>55020000</td>\n      <td>52980000</td>\n      <td>...</td>\n      <td>132240000</td>\n      <td>121620000</td>\n      <td>172860000</td>\n      <td>176040000</td>\n      <td>191100000</td>\n      <td>193740000</td>\n      <td>181260000</td>\n      <td>156180000</td>\n      <td>176040000</td>\n      <td>3369300000</td>\n    </tr>\n    <tr>\n      <th>13</th>\n      <td>Norway</td>\n      <td>7440000</td>\n      <td>7440000</td>\n      <td>7440000</td>\n      <td>7440000</td>\n      <td>7440000</td>\n      <td>7440000</td>\n      <td>7440000</td>\n      <td>7440000</td>\n      <td>7440000</td>\n      <td>...</td>\n      <td>7440000</td>\n      <td>7440000</td>\n      <td>7440000</td>\n      <td>7440000</td>\n      <td>7440000</td>\n      <td>7440000</td>\n      <td>7440000</td>\n      <td>7440000</td>\n      <td>7440000</td>\n      <td>223200000</td>\n    </tr>\n    <tr>\n      <th>14</th>\n      <td>Switzerland</td>\n      <td>19260000</td>\n      <td>21060000</td>\n      <td>18120000</td>\n      <td>19620000</td>\n      <td>17160000</td>\n      <td>11580000</td>\n      <td>8400000</td>\n      <td>7080000</td>\n      <td>9900000</td>\n      <td>...</td>\n      <td>12180000</td>\n      <td>12540000</td>\n      <td>12360000</td>\n      <td>12360000</td>\n      <td>13020000</td>\n      <td>13140000</td>\n      <td>22080000</td>\n      <td>20280000</td>\n      <td>22740000</td>\n      <td>398100000</td>\n    </tr>\n    <tr>\n      <th>15</th>\n      <td>United Kingdom</td>\n      <td>11340000</td>\n      <td>10080000</td>\n      <td>10200000</td>\n      <td>12240000</td>\n      <td>12780000</td>\n      <td>11220000</td>\n      <td>7920000</td>\n      <td>6600000</td>\n      <td>7680000</td>\n      <td>...</td>\n      <td>2460000</td>\n      <td>2460000</td>\n      <td>2340000</td>\n      <td>2400000</td>\n      <td>2580000</td>\n      <td>1560000</td>\n      <td>1200000</td>\n      <td>1860000</td>\n      <td>2160000</td>\n      <td>186120000</td>\n    </tr>\n    <tr>\n      <th>16</th>\n      <td>United States of America</td>\n      <td>358920000</td>\n      <td>369000000</td>\n      <td>565320000</td>\n      <td>468840000</td>\n      <td>245220000</td>\n      <td>119400000</td>\n      <td>79620000</td>\n      <td>85680000</td>\n      <td>84480000</td>\n      <td>...</td>\n      <td>257700000</td>\n      <td>284160000</td>\n      <td>305220000</td>\n      <td>331500000</td>\n      <td>350160000</td>\n      <td>375360000</td>\n      <td>397920000</td>\n      <td>367980000</td>\n      <td>410100000</td>\n      <td>8984400000</td>\n    </tr>\n    <tr>\n      <th>17</th>\n      <td>Unspecified EU stocks</td>\n      <td>145980000</td>\n      <td>165480000</td>\n      <td>149100000</td>\n      <td>115200000</td>\n      <td>127320000</td>\n      <td>82860000</td>\n      <td>73320000</td>\n      <td>93060000</td>\n      <td>96180000</td>\n      <td>...</td>\n      <td>409680000</td>\n      <td>366720000</td>\n      <td>320160000</td>\n      <td>450060000</td>\n      <td>447840000</td>\n      <td>417240000</td>\n      <td>422100000</td>\n      <td>485520000</td>\n      <td>536100000</td>\n      <td>9457860000</td>\n    </tr>\n  </tbody>\n</table>\n<p>18 rows × 32 columns</p>\n</div>"
     },
     "execution_count": 2,
     "metadata": {},
     "output_type": "execute_result"
    }
   ],
   "source": [
    "green_coffee = pd.read_csv('coffee-datasets/Coffee_green_coffee_inventorie.csv')\n",
    "green_coffee"
   ],
   "metadata": {
    "collapsed": false,
    "ExecuteTime": {
     "end_time": "2023-06-25T14:24:22.064396Z",
     "start_time": "2023-06-25T14:24:22.053165Z"
    }
   }
  },
  {
   "cell_type": "code",
   "execution_count": 3,
   "outputs": [
    {
     "data": {
      "text/plain": "                     Country  Total_inventorie\n17     Unspecified EU stocks        9457860000\n16  United States of America        8984400000\n5                    Germany        5179440000\n12                     Japan        3369300000\n8                Netherlands        1418460000\n10                     Spain         865440000\n4                     France         843120000\n7                      Italy         523440000\n14               Switzerland         398100000\n0                    Austria         306660000",
      "text/html": "<div>\n<style scoped>\n    .dataframe tbody tr th:only-of-type {\n        vertical-align: middle;\n    }\n\n    .dataframe tbody tr th {\n        vertical-align: top;\n    }\n\n    .dataframe thead th {\n        text-align: right;\n    }\n</style>\n<table border=\"1\" class=\"dataframe\">\n  <thead>\n    <tr style=\"text-align: right;\">\n      <th></th>\n      <th>Country</th>\n      <th>Total_inventorie</th>\n    </tr>\n  </thead>\n  <tbody>\n    <tr>\n      <th>17</th>\n      <td>Unspecified EU stocks</td>\n      <td>9457860000</td>\n    </tr>\n    <tr>\n      <th>16</th>\n      <td>United States of America</td>\n      <td>8984400000</td>\n    </tr>\n    <tr>\n      <th>5</th>\n      <td>Germany</td>\n      <td>5179440000</td>\n    </tr>\n    <tr>\n      <th>12</th>\n      <td>Japan</td>\n      <td>3369300000</td>\n    </tr>\n    <tr>\n      <th>8</th>\n      <td>Netherlands</td>\n      <td>1418460000</td>\n    </tr>\n    <tr>\n      <th>10</th>\n      <td>Spain</td>\n      <td>865440000</td>\n    </tr>\n    <tr>\n      <th>4</th>\n      <td>France</td>\n      <td>843120000</td>\n    </tr>\n    <tr>\n      <th>7</th>\n      <td>Italy</td>\n      <td>523440000</td>\n    </tr>\n    <tr>\n      <th>14</th>\n      <td>Switzerland</td>\n      <td>398100000</td>\n    </tr>\n    <tr>\n      <th>0</th>\n      <td>Austria</td>\n      <td>306660000</td>\n    </tr>\n  </tbody>\n</table>\n</div>"
     },
     "execution_count": 3,
     "metadata": {},
     "output_type": "execute_result"
    }
   ],
   "source": [
    "# Top 10 green coffe inventory\n",
    "top_green_coffee = green_coffee[['Country', 'Total_inventorie']].sort_values(by=['Total_inventorie'], ascending=False).head(10)\n",
    "top_green_coffee"
   ],
   "metadata": {
    "collapsed": false,
    "ExecuteTime": {
     "end_time": "2023-06-25T14:24:22.070502Z",
     "start_time": "2023-06-25T14:24:22.067475Z"
    }
   }
  },
  {
   "cell_type": "code",
   "execution_count": 4,
   "outputs": [],
   "source": [
    "# Top 10 green coffe inventory\n",
    "fig = px.bar(top_green_coffee, x='Country', y='Total_inventorie', labels={\n",
    "    \"Country\": \"Countries\",\n",
    "    \"Total_inventorie\": \"Inventories\"\n",
    "},title='Top Green Coffee Inventories', width=1100, height=600)\n",
    "fig.show()"
   ],
   "metadata": {
    "collapsed": false,
    "ExecuteTime": {
     "end_time": "2023-06-25T14:24:22.243026Z",
     "start_time": "2023-06-25T14:24:22.071458Z"
    }
   }
  },
  {
   "cell_type": "code",
   "execution_count": 5,
   "outputs": [],
   "source": [
    "top_green_coffee1 = green_coffee[['Country', 'Total_inventorie']].sort_values(by=['Total_inventorie'], ascending=False).head(5)\n",
    "top_green_coffee1.head()\n",
    "top_green_inverntory = green_coffee[green_coffee.Country.isin(top_green_coffee1['Country'].unique())]\n",
    "top_green_inverntory = top_green_inverntory.T\n",
    "top_green_inverntory.drop(['Country', 'Total_inventorie'], axis=0, inplace=True)\n",
    "top_green_inverntory.index.name = 'Year'\n",
    "top_green_inverntory.columns = top_green_coffee1['Country'].values\n",
    "top_green_inverntory.head()"
   ],
   "metadata": {
    "collapsed": false
   }
  },
  {
   "cell_type": "code",
   "execution_count": null,
   "outputs": [],
   "source": [
    "# coffe inventory na przestrrzeni lat\n",
    "fig = px.line(top_green_inverntory, x = top_green_inverntory.index, y= top_green_inverntory.columns[0:],labels={\n",
    "    \"Country\": \"Countries\",\n",
    "    \"value\": \"Inventory\"}, title='Green Coffee Inventories over the years',width=1300, height=800)\n",
    "fig.update_layout(legend_title_text=\"Country\")\n",
    "fig.show()"
   ],
   "metadata": {
    "collapsed": false,
    "is_executing": true
   }
  },
  {
   "cell_type": "code",
   "execution_count": null,
   "outputs": [],
   "source": [],
   "metadata": {
    "collapsed": false,
    "is_executing": true
   }
  }
 ],
 "metadata": {
  "kernelspec": {
   "display_name": "Python 3",
   "language": "python",
   "name": "python3"
  },
  "language_info": {
   "codemirror_mode": {
    "name": "ipython",
    "version": 2
   },
   "file_extension": ".py",
   "mimetype": "text/x-python",
   "name": "python",
   "nbconvert_exporter": "python",
   "pygments_lexer": "ipython2",
   "version": "2.7.6"
  }
 },
 "nbformat": 4,
 "nbformat_minor": 0
}
