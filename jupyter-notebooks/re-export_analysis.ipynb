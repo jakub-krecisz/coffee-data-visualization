{
 "cells": [
  {
   "cell_type": "markdown",
   "source": [
    "What is Re-Export?\n",
    "\n",
    "As per the U.S. Bureau of Industry and Security (BIS), re-export means the transmission or shipment of an item subject to Export Administration Regulations (EAR) from one country to another country. Re-export occurs when there is a ‘release’ of software or technology subject to EAR in one country to another foreign country."
   ],
   "metadata": {
    "collapsed": false
   }
  },
  {
   "cell_type": "code",
   "execution_count": 9,
   "outputs": [],
   "source": [
    "import pandas as pd\n",
    "import plotly.express as px\n",
    "import plotly.graph_objects as go"
   ],
   "metadata": {
    "collapsed": false,
    "ExecuteTime": {
     "end_time": "2023-06-26T13:56:15.248520Z",
     "start_time": "2023-06-26T13:56:15.243934Z"
    }
   }
  },
  {
   "cell_type": "code",
   "execution_count": 10,
   "outputs": [
    {
     "data": {
      "text/plain": "                     Country       1990       1991       1992       1993  \\\n0                    Austria   24900000   45360000   57600000   32100000   \n1                    Belgium          0          0          0          0   \n2         Belgium/Luxembourg   53460000   62280000   67860000   76440000   \n3                   Bulgaria    9960000   10980000     420000    4200000   \n4                    Croatia          0          0    2040000    1860000   \n5                     Cyprus     960000     420000     240000     120000   \n6                    Czechia          0          0     180000    3960000   \n7                    Denmark    5640000    4440000    6180000    6180000   \n8                    Estonia          0          0     180000     420000   \n9                    Finland    1140000    1260000    2100000   11880000   \n10                    France   54780000   60420000   61380000   58560000   \n11                   Germany  197520000  195120000  199080000  196920000   \n12                    Greece     660000    1200000    1740000   13620000   \n13                   Hungary          0   15660000   10440000    6660000   \n14                   Ireland     600000     300000     240000     180000   \n15                     Italy   22980000   24120000   27900000   39840000   \n16                    Latvia          0          0      60000    1080000   \n17                 Lithuania          0          0          0          0   \n18                Luxembourg          0          0          0          0   \n19                     Malta      60000     180000     120000      60000   \n20               Netherlands   35100000   37980000   38880000   25500000   \n21                    Poland    6000000     420000    8220000    7560000   \n22                  Portugal    1860000    2040000    2400000    2280000   \n23                   Romania          0          0     180000     360000   \n24                  Slovakia          0          0          0     780000   \n25                  Slovenia          0          0     420000     300000   \n26                     Spain   15900000   16080000   17220000   10080000   \n27                    Sweden    4620000    6840000    8280000    8280000   \n28                     Japan    1200000    2040000    1620000    2040000   \n29                    Norway     480000     240000     180000     180000   \n30        Russian Federation          0          0     300000          0   \n31               Switzerland    9960000    9060000    9300000    9960000   \n32                   Tunisia          0          0          0          0   \n33            United Kingdom   28920000   29100000   34200000   37740000   \n34  United States of America   49500000   60600000   82620000  103200000   \n\n         1994       1995       1996       1997       1998  ...       2011  \\\n0    22860000   13740000    9780000   13320000   12600000  ...   21900000   \n1           0          0          0          0          0  ...  293640000   \n2    78240000   79680000   89220000   99480000  136200000  ...          0   \n3     6600000    7320000    1560000    1140000    1080000  ...    7320000   \n4     1800000    1920000    1020000    1440000    1140000  ...    1440000   \n5       60000      60000      60000      60000      60000  ...          0   \n6     2700000    2520000    3000000    4560000   14460000  ...   22800000   \n7     7500000    7140000    6660000    8460000    9600000  ...    8820000   \n8     1200000    1500000    1980000    2520000    2700000  ...    6000000   \n9    13020000    5820000   10320000   12300000   11160000  ...   11640000   \n10   69900000   64860000   70920000   69960000   71580000  ...   62580000   \n11  208140000  193200000  216780000  236100000  243780000  ...  700980000   \n12    8760000    8340000    3060000    3000000    2220000  ...    7920000   \n13    2820000    4320000    1920000    4380000    3780000  ...   27600000   \n14     180000     480000     660000     540000     600000  ...    1800000   \n15   47160000   44940000   49560000   49560000   56760000  ...  159780000   \n16    1020000     900000     960000    1440000    1500000  ...    2400000   \n17     600000    2700000    4980000    4740000    3000000  ...    6540000   \n18          0          0          0          0          0  ...    6660000   \n19     120000      60000          0      60000     240000  ...      60000   \n20   40680000   37020000   34500000   33420000   54060000  ...  106140000   \n21    6000000    8040000   10140000   17220000   19680000  ...   82200000   \n22    3120000    4440000    5940000    6480000    5760000  ...   12600000   \n23          0     120000          0      60000     660000  ...    2520000   \n24    1380000    1620000     960000    1080000    1020000  ...   23340000   \n25     420000     480000     660000     600000     720000  ...     900000   \n26   14220000   23820000   35700000   46740000   42000000  ...  100320000   \n27   13440000   13020000   13500000   13920000   11520000  ...   31320000   \n28    1620000     420000     360000    1140000     540000  ...    4800000   \n29     360000     300000     420000     540000     240000  ...     600000   \n30     840000    4680000    3900000   19680000    5100000  ...   27780000   \n31   11760000   10500000   14580000   16800000   15240000  ...   84840000   \n32          0          0          0          0          0  ...     780000   \n33   49020000   37980000   33120000   30660000   32220000  ...   75840000   \n34  154320000  110460000  122940000  146760000  146820000  ...  223680000   \n\n         2012       2013       2014       2015       2016       2017  \\\n0    18240000   18660000   23160000   22680000   18480000   18480000   \n1   285240000  255420000  237180000  267600000  273000000  262620000   \n2           0          0          0          0          0          0   \n3    11040000   11460000   14640000   16500000   19620000   17520000   \n4     1440000    1560000    3060000    3780000    5940000    4680000   \n5       60000     120000     480000     180000     240000     120000   \n6    26460000   32760000   49500000   81540000   58380000   42180000   \n7     6780000    5940000    6300000    6540000    9120000    7200000   \n8     3180000    2160000     840000     420000     780000    1500000   \n9     9360000   10860000   10980000   12660000   14520000   17880000   \n10   61140000   60840000   65820000   72540000   77880000   90840000   \n11  755400000  721200000  774660000  749760000  798780000  816000000   \n12   10080000   10140000    8760000    9660000   11820000    6660000   \n13   29760000   22860000   26040000   18660000   21300000   18780000   \n14    2220000    2280000    2160000    3900000    5100000    8220000   \n15  177840000  190980000  208140000  220140000  251580000  265020000   \n16    3360000    3960000    6180000    5700000    7200000    6660000   \n17    8580000    9900000   10380000   12960000   15420000   11520000   \n18    6660000    8220000    9480000    9240000   10260000   10140000   \n19          0          0          0      60000      60000          0   \n20   80820000  106860000  132960000  148800000  162120000  186240000   \n21   96420000   96900000  124740000  134760000  111120000  105480000   \n22   13680000   12720000   13620000   13920000   15720000   15000000   \n23    3240000    4800000    2760000    1800000    3660000    3060000   \n24   34260000   28200000   25260000   38580000   40800000   34260000   \n25    2160000    4440000    4860000    5040000    7800000   12720000   \n26   99540000   98160000  114360000  114480000  127500000  136500000   \n27   31200000   32040000   32820000   29880000   33120000   34860000   \n28    4260000    5520000    6660000    7020000    6660000    6780000   \n29     720000    1080000     840000     720000    1080000    1140000   \n30   28740000   45720000   43560000   51840000   47640000   57360000   \n31   85500000   92820000   96960000   98460000  104880000  111660000   \n32    1080000     600000          0      60000          0          0   \n33   72000000   82800000   83400000   78120000   94080000   99720000   \n34  203040000  194880000  201660000  177480000  190500000  175800000   \n\n         2018       2019  Total_re_export  \n0    15420000   16440000        869220000  \n1   262620000  300840000       4779780000  \n2           0          0        742860000  \n3    18720000   21720000        205620000  \n4     5160000    5160000         57900000  \n5       60000    1380000          7980000  \n6    44760000   45960000        674640000  \n7     7680000    7800000        289800000  \n8     1260000    1500000         93240000  \n9    10740000   10080000        284400000  \n10   98940000  108720000       2063880000  \n11  826200000  828060000      14558880000  \n12    6060000    6420000        187260000  \n13   19920000   21300000        436740000  \n14    4140000    4140000         61080000  \n15  279540000  326280000       3678600000  \n16    8700000    7260000         79380000  \n17   10800000   13320000        184500000  \n18   10680000   10740000        152580000  \n19          0          0          1140000  \n20  202560000  199440000       2527200000  \n21  113340000  117120000       1525740000  \n22   16020000   17340000        256740000  \n23    3240000    3420000         40020000  \n24   36720000   32820000        373020000  \n25   19920000   24900000         94440000  \n26  155100000  166560000       2277480000  \n27   34740000   34740000        652260000  \n28    7440000    9480000        134760000  \n29     540000     900000         16260000  \n30   63240000   65820000        609840000  \n31  116760000  126840000       1485780000  \n32          0          0          3660000  \n33  113340000  106800000       1734120000  \n34  174120000  170520000       4526640000  \n\n[35 rows x 32 columns]",
      "text/html": "<div>\n<style scoped>\n    .dataframe tbody tr th:only-of-type {\n        vertical-align: middle;\n    }\n\n    .dataframe tbody tr th {\n        vertical-align: top;\n    }\n\n    .dataframe thead th {\n        text-align: right;\n    }\n</style>\n<table border=\"1\" class=\"dataframe\">\n  <thead>\n    <tr style=\"text-align: right;\">\n      <th></th>\n      <th>Country</th>\n      <th>1990</th>\n      <th>1991</th>\n      <th>1992</th>\n      <th>1993</th>\n      <th>1994</th>\n      <th>1995</th>\n      <th>1996</th>\n      <th>1997</th>\n      <th>1998</th>\n      <th>...</th>\n      <th>2011</th>\n      <th>2012</th>\n      <th>2013</th>\n      <th>2014</th>\n      <th>2015</th>\n      <th>2016</th>\n      <th>2017</th>\n      <th>2018</th>\n      <th>2019</th>\n      <th>Total_re_export</th>\n    </tr>\n  </thead>\n  <tbody>\n    <tr>\n      <th>0</th>\n      <td>Austria</td>\n      <td>24900000</td>\n      <td>45360000</td>\n      <td>57600000</td>\n      <td>32100000</td>\n      <td>22860000</td>\n      <td>13740000</td>\n      <td>9780000</td>\n      <td>13320000</td>\n      <td>12600000</td>\n      <td>...</td>\n      <td>21900000</td>\n      <td>18240000</td>\n      <td>18660000</td>\n      <td>23160000</td>\n      <td>22680000</td>\n      <td>18480000</td>\n      <td>18480000</td>\n      <td>15420000</td>\n      <td>16440000</td>\n      <td>869220000</td>\n    </tr>\n    <tr>\n      <th>1</th>\n      <td>Belgium</td>\n      <td>0</td>\n      <td>0</td>\n      <td>0</td>\n      <td>0</td>\n      <td>0</td>\n      <td>0</td>\n      <td>0</td>\n      <td>0</td>\n      <td>0</td>\n      <td>...</td>\n      <td>293640000</td>\n      <td>285240000</td>\n      <td>255420000</td>\n      <td>237180000</td>\n      <td>267600000</td>\n      <td>273000000</td>\n      <td>262620000</td>\n      <td>262620000</td>\n      <td>300840000</td>\n      <td>4779780000</td>\n    </tr>\n    <tr>\n      <th>2</th>\n      <td>Belgium/Luxembourg</td>\n      <td>53460000</td>\n      <td>62280000</td>\n      <td>67860000</td>\n      <td>76440000</td>\n      <td>78240000</td>\n      <td>79680000</td>\n      <td>89220000</td>\n      <td>99480000</td>\n      <td>136200000</td>\n      <td>...</td>\n      <td>0</td>\n      <td>0</td>\n      <td>0</td>\n      <td>0</td>\n      <td>0</td>\n      <td>0</td>\n      <td>0</td>\n      <td>0</td>\n      <td>0</td>\n      <td>742860000</td>\n    </tr>\n    <tr>\n      <th>3</th>\n      <td>Bulgaria</td>\n      <td>9960000</td>\n      <td>10980000</td>\n      <td>420000</td>\n      <td>4200000</td>\n      <td>6600000</td>\n      <td>7320000</td>\n      <td>1560000</td>\n      <td>1140000</td>\n      <td>1080000</td>\n      <td>...</td>\n      <td>7320000</td>\n      <td>11040000</td>\n      <td>11460000</td>\n      <td>14640000</td>\n      <td>16500000</td>\n      <td>19620000</td>\n      <td>17520000</td>\n      <td>18720000</td>\n      <td>21720000</td>\n      <td>205620000</td>\n    </tr>\n    <tr>\n      <th>4</th>\n      <td>Croatia</td>\n      <td>0</td>\n      <td>0</td>\n      <td>2040000</td>\n      <td>1860000</td>\n      <td>1800000</td>\n      <td>1920000</td>\n      <td>1020000</td>\n      <td>1440000</td>\n      <td>1140000</td>\n      <td>...</td>\n      <td>1440000</td>\n      <td>1440000</td>\n      <td>1560000</td>\n      <td>3060000</td>\n      <td>3780000</td>\n      <td>5940000</td>\n      <td>4680000</td>\n      <td>5160000</td>\n      <td>5160000</td>\n      <td>57900000</td>\n    </tr>\n    <tr>\n      <th>5</th>\n      <td>Cyprus</td>\n      <td>960000</td>\n      <td>420000</td>\n      <td>240000</td>\n      <td>120000</td>\n      <td>60000</td>\n      <td>60000</td>\n      <td>60000</td>\n      <td>60000</td>\n      <td>60000</td>\n      <td>...</td>\n      <td>0</td>\n      <td>60000</td>\n      <td>120000</td>\n      <td>480000</td>\n      <td>180000</td>\n      <td>240000</td>\n      <td>120000</td>\n      <td>60000</td>\n      <td>1380000</td>\n      <td>7980000</td>\n    </tr>\n    <tr>\n      <th>6</th>\n      <td>Czechia</td>\n      <td>0</td>\n      <td>0</td>\n      <td>180000</td>\n      <td>3960000</td>\n      <td>2700000</td>\n      <td>2520000</td>\n      <td>3000000</td>\n      <td>4560000</td>\n      <td>14460000</td>\n      <td>...</td>\n      <td>22800000</td>\n      <td>26460000</td>\n      <td>32760000</td>\n      <td>49500000</td>\n      <td>81540000</td>\n      <td>58380000</td>\n      <td>42180000</td>\n      <td>44760000</td>\n      <td>45960000</td>\n      <td>674640000</td>\n    </tr>\n    <tr>\n      <th>7</th>\n      <td>Denmark</td>\n      <td>5640000</td>\n      <td>4440000</td>\n      <td>6180000</td>\n      <td>6180000</td>\n      <td>7500000</td>\n      <td>7140000</td>\n      <td>6660000</td>\n      <td>8460000</td>\n      <td>9600000</td>\n      <td>...</td>\n      <td>8820000</td>\n      <td>6780000</td>\n      <td>5940000</td>\n      <td>6300000</td>\n      <td>6540000</td>\n      <td>9120000</td>\n      <td>7200000</td>\n      <td>7680000</td>\n      <td>7800000</td>\n      <td>289800000</td>\n    </tr>\n    <tr>\n      <th>8</th>\n      <td>Estonia</td>\n      <td>0</td>\n      <td>0</td>\n      <td>180000</td>\n      <td>420000</td>\n      <td>1200000</td>\n      <td>1500000</td>\n      <td>1980000</td>\n      <td>2520000</td>\n      <td>2700000</td>\n      <td>...</td>\n      <td>6000000</td>\n      <td>3180000</td>\n      <td>2160000</td>\n      <td>840000</td>\n      <td>420000</td>\n      <td>780000</td>\n      <td>1500000</td>\n      <td>1260000</td>\n      <td>1500000</td>\n      <td>93240000</td>\n    </tr>\n    <tr>\n      <th>9</th>\n      <td>Finland</td>\n      <td>1140000</td>\n      <td>1260000</td>\n      <td>2100000</td>\n      <td>11880000</td>\n      <td>13020000</td>\n      <td>5820000</td>\n      <td>10320000</td>\n      <td>12300000</td>\n      <td>11160000</td>\n      <td>...</td>\n      <td>11640000</td>\n      <td>9360000</td>\n      <td>10860000</td>\n      <td>10980000</td>\n      <td>12660000</td>\n      <td>14520000</td>\n      <td>17880000</td>\n      <td>10740000</td>\n      <td>10080000</td>\n      <td>284400000</td>\n    </tr>\n    <tr>\n      <th>10</th>\n      <td>France</td>\n      <td>54780000</td>\n      <td>60420000</td>\n      <td>61380000</td>\n      <td>58560000</td>\n      <td>69900000</td>\n      <td>64860000</td>\n      <td>70920000</td>\n      <td>69960000</td>\n      <td>71580000</td>\n      <td>...</td>\n      <td>62580000</td>\n      <td>61140000</td>\n      <td>60840000</td>\n      <td>65820000</td>\n      <td>72540000</td>\n      <td>77880000</td>\n      <td>90840000</td>\n      <td>98940000</td>\n      <td>108720000</td>\n      <td>2063880000</td>\n    </tr>\n    <tr>\n      <th>11</th>\n      <td>Germany</td>\n      <td>197520000</td>\n      <td>195120000</td>\n      <td>199080000</td>\n      <td>196920000</td>\n      <td>208140000</td>\n      <td>193200000</td>\n      <td>216780000</td>\n      <td>236100000</td>\n      <td>243780000</td>\n      <td>...</td>\n      <td>700980000</td>\n      <td>755400000</td>\n      <td>721200000</td>\n      <td>774660000</td>\n      <td>749760000</td>\n      <td>798780000</td>\n      <td>816000000</td>\n      <td>826200000</td>\n      <td>828060000</td>\n      <td>14558880000</td>\n    </tr>\n    <tr>\n      <th>12</th>\n      <td>Greece</td>\n      <td>660000</td>\n      <td>1200000</td>\n      <td>1740000</td>\n      <td>13620000</td>\n      <td>8760000</td>\n      <td>8340000</td>\n      <td>3060000</td>\n      <td>3000000</td>\n      <td>2220000</td>\n      <td>...</td>\n      <td>7920000</td>\n      <td>10080000</td>\n      <td>10140000</td>\n      <td>8760000</td>\n      <td>9660000</td>\n      <td>11820000</td>\n      <td>6660000</td>\n      <td>6060000</td>\n      <td>6420000</td>\n      <td>187260000</td>\n    </tr>\n    <tr>\n      <th>13</th>\n      <td>Hungary</td>\n      <td>0</td>\n      <td>15660000</td>\n      <td>10440000</td>\n      <td>6660000</td>\n      <td>2820000</td>\n      <td>4320000</td>\n      <td>1920000</td>\n      <td>4380000</td>\n      <td>3780000</td>\n      <td>...</td>\n      <td>27600000</td>\n      <td>29760000</td>\n      <td>22860000</td>\n      <td>26040000</td>\n      <td>18660000</td>\n      <td>21300000</td>\n      <td>18780000</td>\n      <td>19920000</td>\n      <td>21300000</td>\n      <td>436740000</td>\n    </tr>\n    <tr>\n      <th>14</th>\n      <td>Ireland</td>\n      <td>600000</td>\n      <td>300000</td>\n      <td>240000</td>\n      <td>180000</td>\n      <td>180000</td>\n      <td>480000</td>\n      <td>660000</td>\n      <td>540000</td>\n      <td>600000</td>\n      <td>...</td>\n      <td>1800000</td>\n      <td>2220000</td>\n      <td>2280000</td>\n      <td>2160000</td>\n      <td>3900000</td>\n      <td>5100000</td>\n      <td>8220000</td>\n      <td>4140000</td>\n      <td>4140000</td>\n      <td>61080000</td>\n    </tr>\n    <tr>\n      <th>15</th>\n      <td>Italy</td>\n      <td>22980000</td>\n      <td>24120000</td>\n      <td>27900000</td>\n      <td>39840000</td>\n      <td>47160000</td>\n      <td>44940000</td>\n      <td>49560000</td>\n      <td>49560000</td>\n      <td>56760000</td>\n      <td>...</td>\n      <td>159780000</td>\n      <td>177840000</td>\n      <td>190980000</td>\n      <td>208140000</td>\n      <td>220140000</td>\n      <td>251580000</td>\n      <td>265020000</td>\n      <td>279540000</td>\n      <td>326280000</td>\n      <td>3678600000</td>\n    </tr>\n    <tr>\n      <th>16</th>\n      <td>Latvia</td>\n      <td>0</td>\n      <td>0</td>\n      <td>60000</td>\n      <td>1080000</td>\n      <td>1020000</td>\n      <td>900000</td>\n      <td>960000</td>\n      <td>1440000</td>\n      <td>1500000</td>\n      <td>...</td>\n      <td>2400000</td>\n      <td>3360000</td>\n      <td>3960000</td>\n      <td>6180000</td>\n      <td>5700000</td>\n      <td>7200000</td>\n      <td>6660000</td>\n      <td>8700000</td>\n      <td>7260000</td>\n      <td>79380000</td>\n    </tr>\n    <tr>\n      <th>17</th>\n      <td>Lithuania</td>\n      <td>0</td>\n      <td>0</td>\n      <td>0</td>\n      <td>0</td>\n      <td>600000</td>\n      <td>2700000</td>\n      <td>4980000</td>\n      <td>4740000</td>\n      <td>3000000</td>\n      <td>...</td>\n      <td>6540000</td>\n      <td>8580000</td>\n      <td>9900000</td>\n      <td>10380000</td>\n      <td>12960000</td>\n      <td>15420000</td>\n      <td>11520000</td>\n      <td>10800000</td>\n      <td>13320000</td>\n      <td>184500000</td>\n    </tr>\n    <tr>\n      <th>18</th>\n      <td>Luxembourg</td>\n      <td>0</td>\n      <td>0</td>\n      <td>0</td>\n      <td>0</td>\n      <td>0</td>\n      <td>0</td>\n      <td>0</td>\n      <td>0</td>\n      <td>0</td>\n      <td>...</td>\n      <td>6660000</td>\n      <td>6660000</td>\n      <td>8220000</td>\n      <td>9480000</td>\n      <td>9240000</td>\n      <td>10260000</td>\n      <td>10140000</td>\n      <td>10680000</td>\n      <td>10740000</td>\n      <td>152580000</td>\n    </tr>\n    <tr>\n      <th>19</th>\n      <td>Malta</td>\n      <td>60000</td>\n      <td>180000</td>\n      <td>120000</td>\n      <td>60000</td>\n      <td>120000</td>\n      <td>60000</td>\n      <td>0</td>\n      <td>60000</td>\n      <td>240000</td>\n      <td>...</td>\n      <td>60000</td>\n      <td>0</td>\n      <td>0</td>\n      <td>0</td>\n      <td>60000</td>\n      <td>60000</td>\n      <td>0</td>\n      <td>0</td>\n      <td>0</td>\n      <td>1140000</td>\n    </tr>\n    <tr>\n      <th>20</th>\n      <td>Netherlands</td>\n      <td>35100000</td>\n      <td>37980000</td>\n      <td>38880000</td>\n      <td>25500000</td>\n      <td>40680000</td>\n      <td>37020000</td>\n      <td>34500000</td>\n      <td>33420000</td>\n      <td>54060000</td>\n      <td>...</td>\n      <td>106140000</td>\n      <td>80820000</td>\n      <td>106860000</td>\n      <td>132960000</td>\n      <td>148800000</td>\n      <td>162120000</td>\n      <td>186240000</td>\n      <td>202560000</td>\n      <td>199440000</td>\n      <td>2527200000</td>\n    </tr>\n    <tr>\n      <th>21</th>\n      <td>Poland</td>\n      <td>6000000</td>\n      <td>420000</td>\n      <td>8220000</td>\n      <td>7560000</td>\n      <td>6000000</td>\n      <td>8040000</td>\n      <td>10140000</td>\n      <td>17220000</td>\n      <td>19680000</td>\n      <td>...</td>\n      <td>82200000</td>\n      <td>96420000</td>\n      <td>96900000</td>\n      <td>124740000</td>\n      <td>134760000</td>\n      <td>111120000</td>\n      <td>105480000</td>\n      <td>113340000</td>\n      <td>117120000</td>\n      <td>1525740000</td>\n    </tr>\n    <tr>\n      <th>22</th>\n      <td>Portugal</td>\n      <td>1860000</td>\n      <td>2040000</td>\n      <td>2400000</td>\n      <td>2280000</td>\n      <td>3120000</td>\n      <td>4440000</td>\n      <td>5940000</td>\n      <td>6480000</td>\n      <td>5760000</td>\n      <td>...</td>\n      <td>12600000</td>\n      <td>13680000</td>\n      <td>12720000</td>\n      <td>13620000</td>\n      <td>13920000</td>\n      <td>15720000</td>\n      <td>15000000</td>\n      <td>16020000</td>\n      <td>17340000</td>\n      <td>256740000</td>\n    </tr>\n    <tr>\n      <th>23</th>\n      <td>Romania</td>\n      <td>0</td>\n      <td>0</td>\n      <td>180000</td>\n      <td>360000</td>\n      <td>0</td>\n      <td>120000</td>\n      <td>0</td>\n      <td>60000</td>\n      <td>660000</td>\n      <td>...</td>\n      <td>2520000</td>\n      <td>3240000</td>\n      <td>4800000</td>\n      <td>2760000</td>\n      <td>1800000</td>\n      <td>3660000</td>\n      <td>3060000</td>\n      <td>3240000</td>\n      <td>3420000</td>\n      <td>40020000</td>\n    </tr>\n    <tr>\n      <th>24</th>\n      <td>Slovakia</td>\n      <td>0</td>\n      <td>0</td>\n      <td>0</td>\n      <td>780000</td>\n      <td>1380000</td>\n      <td>1620000</td>\n      <td>960000</td>\n      <td>1080000</td>\n      <td>1020000</td>\n      <td>...</td>\n      <td>23340000</td>\n      <td>34260000</td>\n      <td>28200000</td>\n      <td>25260000</td>\n      <td>38580000</td>\n      <td>40800000</td>\n      <td>34260000</td>\n      <td>36720000</td>\n      <td>32820000</td>\n      <td>373020000</td>\n    </tr>\n    <tr>\n      <th>25</th>\n      <td>Slovenia</td>\n      <td>0</td>\n      <td>0</td>\n      <td>420000</td>\n      <td>300000</td>\n      <td>420000</td>\n      <td>480000</td>\n      <td>660000</td>\n      <td>600000</td>\n      <td>720000</td>\n      <td>...</td>\n      <td>900000</td>\n      <td>2160000</td>\n      <td>4440000</td>\n      <td>4860000</td>\n      <td>5040000</td>\n      <td>7800000</td>\n      <td>12720000</td>\n      <td>19920000</td>\n      <td>24900000</td>\n      <td>94440000</td>\n    </tr>\n    <tr>\n      <th>26</th>\n      <td>Spain</td>\n      <td>15900000</td>\n      <td>16080000</td>\n      <td>17220000</td>\n      <td>10080000</td>\n      <td>14220000</td>\n      <td>23820000</td>\n      <td>35700000</td>\n      <td>46740000</td>\n      <td>42000000</td>\n      <td>...</td>\n      <td>100320000</td>\n      <td>99540000</td>\n      <td>98160000</td>\n      <td>114360000</td>\n      <td>114480000</td>\n      <td>127500000</td>\n      <td>136500000</td>\n      <td>155100000</td>\n      <td>166560000</td>\n      <td>2277480000</td>\n    </tr>\n    <tr>\n      <th>27</th>\n      <td>Sweden</td>\n      <td>4620000</td>\n      <td>6840000</td>\n      <td>8280000</td>\n      <td>8280000</td>\n      <td>13440000</td>\n      <td>13020000</td>\n      <td>13500000</td>\n      <td>13920000</td>\n      <td>11520000</td>\n      <td>...</td>\n      <td>31320000</td>\n      <td>31200000</td>\n      <td>32040000</td>\n      <td>32820000</td>\n      <td>29880000</td>\n      <td>33120000</td>\n      <td>34860000</td>\n      <td>34740000</td>\n      <td>34740000</td>\n      <td>652260000</td>\n    </tr>\n    <tr>\n      <th>28</th>\n      <td>Japan</td>\n      <td>1200000</td>\n      <td>2040000</td>\n      <td>1620000</td>\n      <td>2040000</td>\n      <td>1620000</td>\n      <td>420000</td>\n      <td>360000</td>\n      <td>1140000</td>\n      <td>540000</td>\n      <td>...</td>\n      <td>4800000</td>\n      <td>4260000</td>\n      <td>5520000</td>\n      <td>6660000</td>\n      <td>7020000</td>\n      <td>6660000</td>\n      <td>6780000</td>\n      <td>7440000</td>\n      <td>9480000</td>\n      <td>134760000</td>\n    </tr>\n    <tr>\n      <th>29</th>\n      <td>Norway</td>\n      <td>480000</td>\n      <td>240000</td>\n      <td>180000</td>\n      <td>180000</td>\n      <td>360000</td>\n      <td>300000</td>\n      <td>420000</td>\n      <td>540000</td>\n      <td>240000</td>\n      <td>...</td>\n      <td>600000</td>\n      <td>720000</td>\n      <td>1080000</td>\n      <td>840000</td>\n      <td>720000</td>\n      <td>1080000</td>\n      <td>1140000</td>\n      <td>540000</td>\n      <td>900000</td>\n      <td>16260000</td>\n    </tr>\n    <tr>\n      <th>30</th>\n      <td>Russian Federation</td>\n      <td>0</td>\n      <td>0</td>\n      <td>300000</td>\n      <td>0</td>\n      <td>840000</td>\n      <td>4680000</td>\n      <td>3900000</td>\n      <td>19680000</td>\n      <td>5100000</td>\n      <td>...</td>\n      <td>27780000</td>\n      <td>28740000</td>\n      <td>45720000</td>\n      <td>43560000</td>\n      <td>51840000</td>\n      <td>47640000</td>\n      <td>57360000</td>\n      <td>63240000</td>\n      <td>65820000</td>\n      <td>609840000</td>\n    </tr>\n    <tr>\n      <th>31</th>\n      <td>Switzerland</td>\n      <td>9960000</td>\n      <td>9060000</td>\n      <td>9300000</td>\n      <td>9960000</td>\n      <td>11760000</td>\n      <td>10500000</td>\n      <td>14580000</td>\n      <td>16800000</td>\n      <td>15240000</td>\n      <td>...</td>\n      <td>84840000</td>\n      <td>85500000</td>\n      <td>92820000</td>\n      <td>96960000</td>\n      <td>98460000</td>\n      <td>104880000</td>\n      <td>111660000</td>\n      <td>116760000</td>\n      <td>126840000</td>\n      <td>1485780000</td>\n    </tr>\n    <tr>\n      <th>32</th>\n      <td>Tunisia</td>\n      <td>0</td>\n      <td>0</td>\n      <td>0</td>\n      <td>0</td>\n      <td>0</td>\n      <td>0</td>\n      <td>0</td>\n      <td>0</td>\n      <td>0</td>\n      <td>...</td>\n      <td>780000</td>\n      <td>1080000</td>\n      <td>600000</td>\n      <td>0</td>\n      <td>60000</td>\n      <td>0</td>\n      <td>0</td>\n      <td>0</td>\n      <td>0</td>\n      <td>3660000</td>\n    </tr>\n    <tr>\n      <th>33</th>\n      <td>United Kingdom</td>\n      <td>28920000</td>\n      <td>29100000</td>\n      <td>34200000</td>\n      <td>37740000</td>\n      <td>49020000</td>\n      <td>37980000</td>\n      <td>33120000</td>\n      <td>30660000</td>\n      <td>32220000</td>\n      <td>...</td>\n      <td>75840000</td>\n      <td>72000000</td>\n      <td>82800000</td>\n      <td>83400000</td>\n      <td>78120000</td>\n      <td>94080000</td>\n      <td>99720000</td>\n      <td>113340000</td>\n      <td>106800000</td>\n      <td>1734120000</td>\n    </tr>\n    <tr>\n      <th>34</th>\n      <td>United States of America</td>\n      <td>49500000</td>\n      <td>60600000</td>\n      <td>82620000</td>\n      <td>103200000</td>\n      <td>154320000</td>\n      <td>110460000</td>\n      <td>122940000</td>\n      <td>146760000</td>\n      <td>146820000</td>\n      <td>...</td>\n      <td>223680000</td>\n      <td>203040000</td>\n      <td>194880000</td>\n      <td>201660000</td>\n      <td>177480000</td>\n      <td>190500000</td>\n      <td>175800000</td>\n      <td>174120000</td>\n      <td>170520000</td>\n      <td>4526640000</td>\n    </tr>\n  </tbody>\n</table>\n<p>35 rows × 32 columns</p>\n</div>"
     },
     "execution_count": 10,
     "metadata": {},
     "output_type": "execute_result"
    }
   ],
   "source": [
    "# Pobieramy dane re-eksportowe\n",
    "re_export = pd.read_csv('../coffee-datasets/Coffee_re_export.csv')\n",
    "re_export"
   ],
   "metadata": {
    "collapsed": false,
    "ExecuteTime": {
     "end_time": "2023-06-26T13:56:15.264695Z",
     "start_time": "2023-06-26T13:56:15.250013Z"
    }
   }
  },
  {
   "cell_type": "code",
   "execution_count": 11,
   "outputs": [
    {
     "data": {
      "text/plain": "                     Country  Total_re_export\n11                   Germany      14558880000\n1                    Belgium       4779780000\n34  United States of America       4526640000\n15                     Italy       3678600000\n20               Netherlands       2527200000\n26                     Spain       2277480000\n10                    France       2063880000\n33            United Kingdom       1734120000\n21                    Poland       1525740000\n31               Switzerland       1485780000",
      "text/html": "<div>\n<style scoped>\n    .dataframe tbody tr th:only-of-type {\n        vertical-align: middle;\n    }\n\n    .dataframe tbody tr th {\n        vertical-align: top;\n    }\n\n    .dataframe thead th {\n        text-align: right;\n    }\n</style>\n<table border=\"1\" class=\"dataframe\">\n  <thead>\n    <tr style=\"text-align: right;\">\n      <th></th>\n      <th>Country</th>\n      <th>Total_re_export</th>\n    </tr>\n  </thead>\n  <tbody>\n    <tr>\n      <th>11</th>\n      <td>Germany</td>\n      <td>14558880000</td>\n    </tr>\n    <tr>\n      <th>1</th>\n      <td>Belgium</td>\n      <td>4779780000</td>\n    </tr>\n    <tr>\n      <th>34</th>\n      <td>United States of America</td>\n      <td>4526640000</td>\n    </tr>\n    <tr>\n      <th>15</th>\n      <td>Italy</td>\n      <td>3678600000</td>\n    </tr>\n    <tr>\n      <th>20</th>\n      <td>Netherlands</td>\n      <td>2527200000</td>\n    </tr>\n    <tr>\n      <th>26</th>\n      <td>Spain</td>\n      <td>2277480000</td>\n    </tr>\n    <tr>\n      <th>10</th>\n      <td>France</td>\n      <td>2063880000</td>\n    </tr>\n    <tr>\n      <th>33</th>\n      <td>United Kingdom</td>\n      <td>1734120000</td>\n    </tr>\n    <tr>\n      <th>21</th>\n      <td>Poland</td>\n      <td>1525740000</td>\n    </tr>\n    <tr>\n      <th>31</th>\n      <td>Switzerland</td>\n      <td>1485780000</td>\n    </tr>\n  </tbody>\n</table>\n</div>"
     },
     "execution_count": 11,
     "metadata": {},
     "output_type": "execute_result"
    }
   ],
   "source": [
    "# Top 10 reeksporterów\n",
    "top_re_export = re_export[['Country', 'Total_re_export']].sort_values(by=['Total_re_export'], ascending=False).head(10)\n",
    "top_re_export"
   ],
   "metadata": {
    "collapsed": false,
    "ExecuteTime": {
     "end_time": "2023-06-26T13:56:15.270294Z",
     "start_time": "2023-06-26T13:56:15.267565Z"
    }
   }
  },
  {
   "cell_type": "code",
   "execution_count": 12,
   "outputs": [
    {
     "data": {
      "application/vnd.plotly.v1+json": {
       "data": [
        {
         "hovertemplate": "Country: %{label}<br>Total Re-Export: %{value:.2f}",
         "labels": [
          "   Germany",
          "   Belgium",
          "United States of America",
          "   Italy",
          "   Netherlands",
          "   Spain",
          "   France",
          "United Kingdom",
          "   Poland",
          "Switzerland"
         ],
         "marker": {
          "colors": [
           "#78533d",
           "#8a6347",
           "#9e7352",
           "#b1845e",
           "#c5976b",
           "#d7aa79",
           "#e9be88",
           "#f4d2a0",
           "#f8e8c1",
           "#fdf3e3"
          ]
         },
         "textinfo": "percent+label",
         "textposition": "inside",
         "values": [
          14558880000,
          4779780000,
          4526640000,
          3678600000,
          2527200000,
          2277480000,
          2063880000,
          1734120000,
          1525740000,
          1485780000
         ],
         "type": "pie"
        }
       ],
       "layout": {
        "template": {
         "data": {
          "histogram2dcontour": [
           {
            "type": "histogram2dcontour",
            "colorbar": {
             "outlinewidth": 0,
             "ticks": ""
            },
            "colorscale": [
             [
              0.0,
              "#0d0887"
             ],
             [
              0.1111111111111111,
              "#46039f"
             ],
             [
              0.2222222222222222,
              "#7201a8"
             ],
             [
              0.3333333333333333,
              "#9c179e"
             ],
             [
              0.4444444444444444,
              "#bd3786"
             ],
             [
              0.5555555555555556,
              "#d8576b"
             ],
             [
              0.6666666666666666,
              "#ed7953"
             ],
             [
              0.7777777777777778,
              "#fb9f3a"
             ],
             [
              0.8888888888888888,
              "#fdca26"
             ],
             [
              1.0,
              "#f0f921"
             ]
            ]
           }
          ],
          "choropleth": [
           {
            "type": "choropleth",
            "colorbar": {
             "outlinewidth": 0,
             "ticks": ""
            }
           }
          ],
          "histogram2d": [
           {
            "type": "histogram2d",
            "colorbar": {
             "outlinewidth": 0,
             "ticks": ""
            },
            "colorscale": [
             [
              0.0,
              "#0d0887"
             ],
             [
              0.1111111111111111,
              "#46039f"
             ],
             [
              0.2222222222222222,
              "#7201a8"
             ],
             [
              0.3333333333333333,
              "#9c179e"
             ],
             [
              0.4444444444444444,
              "#bd3786"
             ],
             [
              0.5555555555555556,
              "#d8576b"
             ],
             [
              0.6666666666666666,
              "#ed7953"
             ],
             [
              0.7777777777777778,
              "#fb9f3a"
             ],
             [
              0.8888888888888888,
              "#fdca26"
             ],
             [
              1.0,
              "#f0f921"
             ]
            ]
           }
          ],
          "heatmap": [
           {
            "type": "heatmap",
            "colorbar": {
             "outlinewidth": 0,
             "ticks": ""
            },
            "colorscale": [
             [
              0.0,
              "#0d0887"
             ],
             [
              0.1111111111111111,
              "#46039f"
             ],
             [
              0.2222222222222222,
              "#7201a8"
             ],
             [
              0.3333333333333333,
              "#9c179e"
             ],
             [
              0.4444444444444444,
              "#bd3786"
             ],
             [
              0.5555555555555556,
              "#d8576b"
             ],
             [
              0.6666666666666666,
              "#ed7953"
             ],
             [
              0.7777777777777778,
              "#fb9f3a"
             ],
             [
              0.8888888888888888,
              "#fdca26"
             ],
             [
              1.0,
              "#f0f921"
             ]
            ]
           }
          ],
          "heatmapgl": [
           {
            "type": "heatmapgl",
            "colorbar": {
             "outlinewidth": 0,
             "ticks": ""
            },
            "colorscale": [
             [
              0.0,
              "#0d0887"
             ],
             [
              0.1111111111111111,
              "#46039f"
             ],
             [
              0.2222222222222222,
              "#7201a8"
             ],
             [
              0.3333333333333333,
              "#9c179e"
             ],
             [
              0.4444444444444444,
              "#bd3786"
             ],
             [
              0.5555555555555556,
              "#d8576b"
             ],
             [
              0.6666666666666666,
              "#ed7953"
             ],
             [
              0.7777777777777778,
              "#fb9f3a"
             ],
             [
              0.8888888888888888,
              "#fdca26"
             ],
             [
              1.0,
              "#f0f921"
             ]
            ]
           }
          ],
          "contourcarpet": [
           {
            "type": "contourcarpet",
            "colorbar": {
             "outlinewidth": 0,
             "ticks": ""
            }
           }
          ],
          "contour": [
           {
            "type": "contour",
            "colorbar": {
             "outlinewidth": 0,
             "ticks": ""
            },
            "colorscale": [
             [
              0.0,
              "#0d0887"
             ],
             [
              0.1111111111111111,
              "#46039f"
             ],
             [
              0.2222222222222222,
              "#7201a8"
             ],
             [
              0.3333333333333333,
              "#9c179e"
             ],
             [
              0.4444444444444444,
              "#bd3786"
             ],
             [
              0.5555555555555556,
              "#d8576b"
             ],
             [
              0.6666666666666666,
              "#ed7953"
             ],
             [
              0.7777777777777778,
              "#fb9f3a"
             ],
             [
              0.8888888888888888,
              "#fdca26"
             ],
             [
              1.0,
              "#f0f921"
             ]
            ]
           }
          ],
          "surface": [
           {
            "type": "surface",
            "colorbar": {
             "outlinewidth": 0,
             "ticks": ""
            },
            "colorscale": [
             [
              0.0,
              "#0d0887"
             ],
             [
              0.1111111111111111,
              "#46039f"
             ],
             [
              0.2222222222222222,
              "#7201a8"
             ],
             [
              0.3333333333333333,
              "#9c179e"
             ],
             [
              0.4444444444444444,
              "#bd3786"
             ],
             [
              0.5555555555555556,
              "#d8576b"
             ],
             [
              0.6666666666666666,
              "#ed7953"
             ],
             [
              0.7777777777777778,
              "#fb9f3a"
             ],
             [
              0.8888888888888888,
              "#fdca26"
             ],
             [
              1.0,
              "#f0f921"
             ]
            ]
           }
          ],
          "mesh3d": [
           {
            "type": "mesh3d",
            "colorbar": {
             "outlinewidth": 0,
             "ticks": ""
            }
           }
          ],
          "scatter": [
           {
            "marker": {
             "line": {
              "color": "#283442"
             }
            },
            "type": "scatter"
           }
          ],
          "parcoords": [
           {
            "type": "parcoords",
            "line": {
             "colorbar": {
              "outlinewidth": 0,
              "ticks": ""
             }
            }
           }
          ],
          "scatterpolargl": [
           {
            "type": "scatterpolargl",
            "marker": {
             "colorbar": {
              "outlinewidth": 0,
              "ticks": ""
             }
            }
           }
          ],
          "bar": [
           {
            "error_x": {
             "color": "#f2f5fa"
            },
            "error_y": {
             "color": "#f2f5fa"
            },
            "marker": {
             "line": {
              "color": "rgb(17,17,17)",
              "width": 0.5
             },
             "pattern": {
              "fillmode": "overlay",
              "size": 10,
              "solidity": 0.2
             }
            },
            "type": "bar"
           }
          ],
          "scattergeo": [
           {
            "type": "scattergeo",
            "marker": {
             "colorbar": {
              "outlinewidth": 0,
              "ticks": ""
             }
            }
           }
          ],
          "scatterpolar": [
           {
            "type": "scatterpolar",
            "marker": {
             "colorbar": {
              "outlinewidth": 0,
              "ticks": ""
             }
            }
           }
          ],
          "histogram": [
           {
            "marker": {
             "pattern": {
              "fillmode": "overlay",
              "size": 10,
              "solidity": 0.2
             }
            },
            "type": "histogram"
           }
          ],
          "scattergl": [
           {
            "marker": {
             "line": {
              "color": "#283442"
             }
            },
            "type": "scattergl"
           }
          ],
          "scatter3d": [
           {
            "type": "scatter3d",
            "line": {
             "colorbar": {
              "outlinewidth": 0,
              "ticks": ""
             }
            },
            "marker": {
             "colorbar": {
              "outlinewidth": 0,
              "ticks": ""
             }
            }
           }
          ],
          "scattermapbox": [
           {
            "type": "scattermapbox",
            "marker": {
             "colorbar": {
              "outlinewidth": 0,
              "ticks": ""
             }
            }
           }
          ],
          "scatterternary": [
           {
            "type": "scatterternary",
            "marker": {
             "colorbar": {
              "outlinewidth": 0,
              "ticks": ""
             }
            }
           }
          ],
          "scattercarpet": [
           {
            "type": "scattercarpet",
            "marker": {
             "colorbar": {
              "outlinewidth": 0,
              "ticks": ""
             }
            }
           }
          ],
          "carpet": [
           {
            "aaxis": {
             "endlinecolor": "#A2B1C6",
             "gridcolor": "#506784",
             "linecolor": "#506784",
             "minorgridcolor": "#506784",
             "startlinecolor": "#A2B1C6"
            },
            "baxis": {
             "endlinecolor": "#A2B1C6",
             "gridcolor": "#506784",
             "linecolor": "#506784",
             "minorgridcolor": "#506784",
             "startlinecolor": "#A2B1C6"
            },
            "type": "carpet"
           }
          ],
          "table": [
           {
            "cells": {
             "fill": {
              "color": "#506784"
             },
             "line": {
              "color": "rgb(17,17,17)"
             }
            },
            "header": {
             "fill": {
              "color": "#2a3f5f"
             },
             "line": {
              "color": "rgb(17,17,17)"
             }
            },
            "type": "table"
           }
          ],
          "barpolar": [
           {
            "marker": {
             "line": {
              "color": "rgb(17,17,17)",
              "width": 0.5
             },
             "pattern": {
              "fillmode": "overlay",
              "size": 10,
              "solidity": 0.2
             }
            },
            "type": "barpolar"
           }
          ],
          "pie": [
           {
            "automargin": true,
            "type": "pie"
           }
          ]
         },
         "layout": {
          "autotypenumbers": "strict",
          "colorway": [
           "#636efa",
           "#EF553B",
           "#00cc96",
           "#ab63fa",
           "#FFA15A",
           "#19d3f3",
           "#FF6692",
           "#B6E880",
           "#FF97FF",
           "#FECB52"
          ],
          "font": {
           "color": "#f2f5fa"
          },
          "hovermode": "closest",
          "hoverlabel": {
           "align": "left"
          },
          "paper_bgcolor": "rgb(17,17,17)",
          "plot_bgcolor": "rgb(17,17,17)",
          "polar": {
           "bgcolor": "rgb(17,17,17)",
           "angularaxis": {
            "gridcolor": "#506784",
            "linecolor": "#506784",
            "ticks": ""
           },
           "radialaxis": {
            "gridcolor": "#506784",
            "linecolor": "#506784",
            "ticks": ""
           }
          },
          "ternary": {
           "bgcolor": "rgb(17,17,17)",
           "aaxis": {
            "gridcolor": "#506784",
            "linecolor": "#506784",
            "ticks": ""
           },
           "baxis": {
            "gridcolor": "#506784",
            "linecolor": "#506784",
            "ticks": ""
           },
           "caxis": {
            "gridcolor": "#506784",
            "linecolor": "#506784",
            "ticks": ""
           }
          },
          "coloraxis": {
           "colorbar": {
            "outlinewidth": 0,
            "ticks": ""
           }
          },
          "colorscale": {
           "sequential": [
            [
             0.0,
             "#0d0887"
            ],
            [
             0.1111111111111111,
             "#46039f"
            ],
            [
             0.2222222222222222,
             "#7201a8"
            ],
            [
             0.3333333333333333,
             "#9c179e"
            ],
            [
             0.4444444444444444,
             "#bd3786"
            ],
            [
             0.5555555555555556,
             "#d8576b"
            ],
            [
             0.6666666666666666,
             "#ed7953"
            ],
            [
             0.7777777777777778,
             "#fb9f3a"
            ],
            [
             0.8888888888888888,
             "#fdca26"
            ],
            [
             1.0,
             "#f0f921"
            ]
           ],
           "sequentialminus": [
            [
             0.0,
             "#0d0887"
            ],
            [
             0.1111111111111111,
             "#46039f"
            ],
            [
             0.2222222222222222,
             "#7201a8"
            ],
            [
             0.3333333333333333,
             "#9c179e"
            ],
            [
             0.4444444444444444,
             "#bd3786"
            ],
            [
             0.5555555555555556,
             "#d8576b"
            ],
            [
             0.6666666666666666,
             "#ed7953"
            ],
            [
             0.7777777777777778,
             "#fb9f3a"
            ],
            [
             0.8888888888888888,
             "#fdca26"
            ],
            [
             1.0,
             "#f0f921"
            ]
           ],
           "diverging": [
            [
             0,
             "#8e0152"
            ],
            [
             0.1,
             "#c51b7d"
            ],
            [
             0.2,
             "#de77ae"
            ],
            [
             0.3,
             "#f1b6da"
            ],
            [
             0.4,
             "#fde0ef"
            ],
            [
             0.5,
             "#f7f7f7"
            ],
            [
             0.6,
             "#e6f5d0"
            ],
            [
             0.7,
             "#b8e186"
            ],
            [
             0.8,
             "#7fbc41"
            ],
            [
             0.9,
             "#4d9221"
            ],
            [
             1,
             "#276419"
            ]
           ]
          },
          "xaxis": {
           "gridcolor": "#283442",
           "linecolor": "#506784",
           "ticks": "",
           "title": {
            "standoff": 15
           },
           "zerolinecolor": "#283442",
           "automargin": true,
           "zerolinewidth": 2
          },
          "yaxis": {
           "gridcolor": "#283442",
           "linecolor": "#506784",
           "ticks": "",
           "title": {
            "standoff": 15
           },
           "zerolinecolor": "#283442",
           "automargin": true,
           "zerolinewidth": 2
          },
          "scene": {
           "xaxis": {
            "backgroundcolor": "rgb(17,17,17)",
            "gridcolor": "#506784",
            "linecolor": "#506784",
            "showbackground": true,
            "ticks": "",
            "zerolinecolor": "#C8D4E3",
            "gridwidth": 2
           },
           "yaxis": {
            "backgroundcolor": "rgb(17,17,17)",
            "gridcolor": "#506784",
            "linecolor": "#506784",
            "showbackground": true,
            "ticks": "",
            "zerolinecolor": "#C8D4E3",
            "gridwidth": 2
           },
           "zaxis": {
            "backgroundcolor": "rgb(17,17,17)",
            "gridcolor": "#506784",
            "linecolor": "#506784",
            "showbackground": true,
            "ticks": "",
            "zerolinecolor": "#C8D4E3",
            "gridwidth": 2
           }
          },
          "shapedefaults": {
           "line": {
            "color": "#f2f5fa"
           }
          },
          "annotationdefaults": {
           "arrowcolor": "#f2f5fa",
           "arrowhead": 0,
           "arrowwidth": 1
          },
          "geo": {
           "bgcolor": "rgb(17,17,17)",
           "landcolor": "rgb(17,17,17)",
           "subunitcolor": "#506784",
           "showland": true,
           "showlakes": true,
           "lakecolor": "rgb(17,17,17)"
          },
          "title": {
           "x": 0.05
          },
          "updatemenudefaults": {
           "bgcolor": "#506784",
           "borderwidth": 0
          },
          "sliderdefaults": {
           "bgcolor": "#C8D4E3",
           "borderwidth": 1,
           "bordercolor": "rgb(17,17,17)",
           "tickwidth": 0
          },
          "mapbox": {
           "style": "dark"
          }
         }
        },
        "title": {
         "text": "Top Coffee Re-Exporters"
        },
        "width": 1000,
        "height": 1000
       },
       "config": {
        "plotlyServerURL": "https://plot.ly"
       }
      },
      "text/html": "<div>                            <div id=\"ffed4500-f8e9-4ac5-accb-8f3a70ede42c\" class=\"plotly-graph-div\" style=\"height:1000px; width:1000px;\"></div>            <script type=\"text/javascript\">                require([\"plotly\"], function(Plotly) {                    window.PLOTLYENV=window.PLOTLYENV || {};                                    if (document.getElementById(\"ffed4500-f8e9-4ac5-accb-8f3a70ede42c\")) {                    Plotly.newPlot(                        \"ffed4500-f8e9-4ac5-accb-8f3a70ede42c\",                        [{\"hovertemplate\":\"Country: %{label}\\u003cbr\\u003eTotal Re-Export: %{value:.2f}\",\"labels\":[\"   Germany\",\"   Belgium\",\"United States of America\",\"   Italy\",\"   Netherlands\",\"   Spain\",\"   France\",\"United Kingdom\",\"   Poland\",\"Switzerland\"],\"marker\":{\"colors\":[\"#78533d\",\"#8a6347\",\"#9e7352\",\"#b1845e\",\"#c5976b\",\"#d7aa79\",\"#e9be88\",\"#f4d2a0\",\"#f8e8c1\",\"#fdf3e3\"]},\"textinfo\":\"percent+label\",\"textposition\":\"inside\",\"values\":[14558880000,4779780000,4526640000,3678600000,2527200000,2277480000,2063880000,1734120000,1525740000,1485780000],\"type\":\"pie\"}],                        {\"template\":{\"data\":{\"histogram2dcontour\":[{\"type\":\"histogram2dcontour\",\"colorbar\":{\"outlinewidth\":0,\"ticks\":\"\"},\"colorscale\":[[0.0,\"#0d0887\"],[0.1111111111111111,\"#46039f\"],[0.2222222222222222,\"#7201a8\"],[0.3333333333333333,\"#9c179e\"],[0.4444444444444444,\"#bd3786\"],[0.5555555555555556,\"#d8576b\"],[0.6666666666666666,\"#ed7953\"],[0.7777777777777778,\"#fb9f3a\"],[0.8888888888888888,\"#fdca26\"],[1.0,\"#f0f921\"]]}],\"choropleth\":[{\"type\":\"choropleth\",\"colorbar\":{\"outlinewidth\":0,\"ticks\":\"\"}}],\"histogram2d\":[{\"type\":\"histogram2d\",\"colorbar\":{\"outlinewidth\":0,\"ticks\":\"\"},\"colorscale\":[[0.0,\"#0d0887\"],[0.1111111111111111,\"#46039f\"],[0.2222222222222222,\"#7201a8\"],[0.3333333333333333,\"#9c179e\"],[0.4444444444444444,\"#bd3786\"],[0.5555555555555556,\"#d8576b\"],[0.6666666666666666,\"#ed7953\"],[0.7777777777777778,\"#fb9f3a\"],[0.8888888888888888,\"#fdca26\"],[1.0,\"#f0f921\"]]}],\"heatmap\":[{\"type\":\"heatmap\",\"colorbar\":{\"outlinewidth\":0,\"ticks\":\"\"},\"colorscale\":[[0.0,\"#0d0887\"],[0.1111111111111111,\"#46039f\"],[0.2222222222222222,\"#7201a8\"],[0.3333333333333333,\"#9c179e\"],[0.4444444444444444,\"#bd3786\"],[0.5555555555555556,\"#d8576b\"],[0.6666666666666666,\"#ed7953\"],[0.7777777777777778,\"#fb9f3a\"],[0.8888888888888888,\"#fdca26\"],[1.0,\"#f0f921\"]]}],\"heatmapgl\":[{\"type\":\"heatmapgl\",\"colorbar\":{\"outlinewidth\":0,\"ticks\":\"\"},\"colorscale\":[[0.0,\"#0d0887\"],[0.1111111111111111,\"#46039f\"],[0.2222222222222222,\"#7201a8\"],[0.3333333333333333,\"#9c179e\"],[0.4444444444444444,\"#bd3786\"],[0.5555555555555556,\"#d8576b\"],[0.6666666666666666,\"#ed7953\"],[0.7777777777777778,\"#fb9f3a\"],[0.8888888888888888,\"#fdca26\"],[1.0,\"#f0f921\"]]}],\"contourcarpet\":[{\"type\":\"contourcarpet\",\"colorbar\":{\"outlinewidth\":0,\"ticks\":\"\"}}],\"contour\":[{\"type\":\"contour\",\"colorbar\":{\"outlinewidth\":0,\"ticks\":\"\"},\"colorscale\":[[0.0,\"#0d0887\"],[0.1111111111111111,\"#46039f\"],[0.2222222222222222,\"#7201a8\"],[0.3333333333333333,\"#9c179e\"],[0.4444444444444444,\"#bd3786\"],[0.5555555555555556,\"#d8576b\"],[0.6666666666666666,\"#ed7953\"],[0.7777777777777778,\"#fb9f3a\"],[0.8888888888888888,\"#fdca26\"],[1.0,\"#f0f921\"]]}],\"surface\":[{\"type\":\"surface\",\"colorbar\":{\"outlinewidth\":0,\"ticks\":\"\"},\"colorscale\":[[0.0,\"#0d0887\"],[0.1111111111111111,\"#46039f\"],[0.2222222222222222,\"#7201a8\"],[0.3333333333333333,\"#9c179e\"],[0.4444444444444444,\"#bd3786\"],[0.5555555555555556,\"#d8576b\"],[0.6666666666666666,\"#ed7953\"],[0.7777777777777778,\"#fb9f3a\"],[0.8888888888888888,\"#fdca26\"],[1.0,\"#f0f921\"]]}],\"mesh3d\":[{\"type\":\"mesh3d\",\"colorbar\":{\"outlinewidth\":0,\"ticks\":\"\"}}],\"scatter\":[{\"marker\":{\"line\":{\"color\":\"#283442\"}},\"type\":\"scatter\"}],\"parcoords\":[{\"type\":\"parcoords\",\"line\":{\"colorbar\":{\"outlinewidth\":0,\"ticks\":\"\"}}}],\"scatterpolargl\":[{\"type\":\"scatterpolargl\",\"marker\":{\"colorbar\":{\"outlinewidth\":0,\"ticks\":\"\"}}}],\"bar\":[{\"error_x\":{\"color\":\"#f2f5fa\"},\"error_y\":{\"color\":\"#f2f5fa\"},\"marker\":{\"line\":{\"color\":\"rgb(17,17,17)\",\"width\":0.5},\"pattern\":{\"fillmode\":\"overlay\",\"size\":10,\"solidity\":0.2}},\"type\":\"bar\"}],\"scattergeo\":[{\"type\":\"scattergeo\",\"marker\":{\"colorbar\":{\"outlinewidth\":0,\"ticks\":\"\"}}}],\"scatterpolar\":[{\"type\":\"scatterpolar\",\"marker\":{\"colorbar\":{\"outlinewidth\":0,\"ticks\":\"\"}}}],\"histogram\":[{\"marker\":{\"pattern\":{\"fillmode\":\"overlay\",\"size\":10,\"solidity\":0.2}},\"type\":\"histogram\"}],\"scattergl\":[{\"marker\":{\"line\":{\"color\":\"#283442\"}},\"type\":\"scattergl\"}],\"scatter3d\":[{\"type\":\"scatter3d\",\"line\":{\"colorbar\":{\"outlinewidth\":0,\"ticks\":\"\"}},\"marker\":{\"colorbar\":{\"outlinewidth\":0,\"ticks\":\"\"}}}],\"scattermapbox\":[{\"type\":\"scattermapbox\",\"marker\":{\"colorbar\":{\"outlinewidth\":0,\"ticks\":\"\"}}}],\"scatterternary\":[{\"type\":\"scatterternary\",\"marker\":{\"colorbar\":{\"outlinewidth\":0,\"ticks\":\"\"}}}],\"scattercarpet\":[{\"type\":\"scattercarpet\",\"marker\":{\"colorbar\":{\"outlinewidth\":0,\"ticks\":\"\"}}}],\"carpet\":[{\"aaxis\":{\"endlinecolor\":\"#A2B1C6\",\"gridcolor\":\"#506784\",\"linecolor\":\"#506784\",\"minorgridcolor\":\"#506784\",\"startlinecolor\":\"#A2B1C6\"},\"baxis\":{\"endlinecolor\":\"#A2B1C6\",\"gridcolor\":\"#506784\",\"linecolor\":\"#506784\",\"minorgridcolor\":\"#506784\",\"startlinecolor\":\"#A2B1C6\"},\"type\":\"carpet\"}],\"table\":[{\"cells\":{\"fill\":{\"color\":\"#506784\"},\"line\":{\"color\":\"rgb(17,17,17)\"}},\"header\":{\"fill\":{\"color\":\"#2a3f5f\"},\"line\":{\"color\":\"rgb(17,17,17)\"}},\"type\":\"table\"}],\"barpolar\":[{\"marker\":{\"line\":{\"color\":\"rgb(17,17,17)\",\"width\":0.5},\"pattern\":{\"fillmode\":\"overlay\",\"size\":10,\"solidity\":0.2}},\"type\":\"barpolar\"}],\"pie\":[{\"automargin\":true,\"type\":\"pie\"}]},\"layout\":{\"autotypenumbers\":\"strict\",\"colorway\":[\"#636efa\",\"#EF553B\",\"#00cc96\",\"#ab63fa\",\"#FFA15A\",\"#19d3f3\",\"#FF6692\",\"#B6E880\",\"#FF97FF\",\"#FECB52\"],\"font\":{\"color\":\"#f2f5fa\"},\"hovermode\":\"closest\",\"hoverlabel\":{\"align\":\"left\"},\"paper_bgcolor\":\"rgb(17,17,17)\",\"plot_bgcolor\":\"rgb(17,17,17)\",\"polar\":{\"bgcolor\":\"rgb(17,17,17)\",\"angularaxis\":{\"gridcolor\":\"#506784\",\"linecolor\":\"#506784\",\"ticks\":\"\"},\"radialaxis\":{\"gridcolor\":\"#506784\",\"linecolor\":\"#506784\",\"ticks\":\"\"}},\"ternary\":{\"bgcolor\":\"rgb(17,17,17)\",\"aaxis\":{\"gridcolor\":\"#506784\",\"linecolor\":\"#506784\",\"ticks\":\"\"},\"baxis\":{\"gridcolor\":\"#506784\",\"linecolor\":\"#506784\",\"ticks\":\"\"},\"caxis\":{\"gridcolor\":\"#506784\",\"linecolor\":\"#506784\",\"ticks\":\"\"}},\"coloraxis\":{\"colorbar\":{\"outlinewidth\":0,\"ticks\":\"\"}},\"colorscale\":{\"sequential\":[[0.0,\"#0d0887\"],[0.1111111111111111,\"#46039f\"],[0.2222222222222222,\"#7201a8\"],[0.3333333333333333,\"#9c179e\"],[0.4444444444444444,\"#bd3786\"],[0.5555555555555556,\"#d8576b\"],[0.6666666666666666,\"#ed7953\"],[0.7777777777777778,\"#fb9f3a\"],[0.8888888888888888,\"#fdca26\"],[1.0,\"#f0f921\"]],\"sequentialminus\":[[0.0,\"#0d0887\"],[0.1111111111111111,\"#46039f\"],[0.2222222222222222,\"#7201a8\"],[0.3333333333333333,\"#9c179e\"],[0.4444444444444444,\"#bd3786\"],[0.5555555555555556,\"#d8576b\"],[0.6666666666666666,\"#ed7953\"],[0.7777777777777778,\"#fb9f3a\"],[0.8888888888888888,\"#fdca26\"],[1.0,\"#f0f921\"]],\"diverging\":[[0,\"#8e0152\"],[0.1,\"#c51b7d\"],[0.2,\"#de77ae\"],[0.3,\"#f1b6da\"],[0.4,\"#fde0ef\"],[0.5,\"#f7f7f7\"],[0.6,\"#e6f5d0\"],[0.7,\"#b8e186\"],[0.8,\"#7fbc41\"],[0.9,\"#4d9221\"],[1,\"#276419\"]]},\"xaxis\":{\"gridcolor\":\"#283442\",\"linecolor\":\"#506784\",\"ticks\":\"\",\"title\":{\"standoff\":15},\"zerolinecolor\":\"#283442\",\"automargin\":true,\"zerolinewidth\":2},\"yaxis\":{\"gridcolor\":\"#283442\",\"linecolor\":\"#506784\",\"ticks\":\"\",\"title\":{\"standoff\":15},\"zerolinecolor\":\"#283442\",\"automargin\":true,\"zerolinewidth\":2},\"scene\":{\"xaxis\":{\"backgroundcolor\":\"rgb(17,17,17)\",\"gridcolor\":\"#506784\",\"linecolor\":\"#506784\",\"showbackground\":true,\"ticks\":\"\",\"zerolinecolor\":\"#C8D4E3\",\"gridwidth\":2},\"yaxis\":{\"backgroundcolor\":\"rgb(17,17,17)\",\"gridcolor\":\"#506784\",\"linecolor\":\"#506784\",\"showbackground\":true,\"ticks\":\"\",\"zerolinecolor\":\"#C8D4E3\",\"gridwidth\":2},\"zaxis\":{\"backgroundcolor\":\"rgb(17,17,17)\",\"gridcolor\":\"#506784\",\"linecolor\":\"#506784\",\"showbackground\":true,\"ticks\":\"\",\"zerolinecolor\":\"#C8D4E3\",\"gridwidth\":2}},\"shapedefaults\":{\"line\":{\"color\":\"#f2f5fa\"}},\"annotationdefaults\":{\"arrowcolor\":\"#f2f5fa\",\"arrowhead\":0,\"arrowwidth\":1},\"geo\":{\"bgcolor\":\"rgb(17,17,17)\",\"landcolor\":\"rgb(17,17,17)\",\"subunitcolor\":\"#506784\",\"showland\":true,\"showlakes\":true,\"lakecolor\":\"rgb(17,17,17)\"},\"title\":{\"x\":0.05},\"updatemenudefaults\":{\"bgcolor\":\"#506784\",\"borderwidth\":0},\"sliderdefaults\":{\"bgcolor\":\"#C8D4E3\",\"borderwidth\":1,\"bordercolor\":\"rgb(17,17,17)\",\"tickwidth\":0},\"mapbox\":{\"style\":\"dark\"}}},\"title\":{\"text\":\"Top Coffee Re-Exporters\"},\"width\":1000,\"height\":1000},                        {\"responsive\": true}                    ).then(function(){\n                            \nvar gd = document.getElementById('ffed4500-f8e9-4ac5-accb-8f3a70ede42c');\nvar x = new MutationObserver(function (mutations, observer) {{\n        var display = window.getComputedStyle(gd).display;\n        if (!display || display === 'none') {{\n            console.log([gd, 'removed!']);\n            Plotly.purge(gd);\n            observer.disconnect();\n        }}\n}});\n\n// Listen for the removal of the full notebook cells\nvar notebookContainer = gd.closest('#notebook-container');\nif (notebookContainer) {{\n    x.observe(notebookContainer, {childList: true});\n}}\n\n// Listen for the clearing of the current output cell\nvar outputEl = gd.closest('.output');\nif (outputEl) {{\n    x.observe(outputEl, {childList: true});\n}}\n\n                        })                };                });            </script>        </div>"
     },
     "metadata": {},
     "output_type": "display_data"
    }
   ],
   "source": [
    "# Top 10 reeksporterów\n",
    "\n",
    "\n",
    "# Definiowanie palety barw\n",
    "colors = [\"#78533d\", \"#8a6347\", \"#9e7352\", \"#b1845e\", \"#c5976b\", \"#d7aa79\", \"#e9be88\", \"#f4d2a0\", \"#f8e8c1\", \"#fdf3e3\"]\n",
    "\n",
    "fig = go.Figure(data=[\n",
    "    go.Pie(\n",
    "        labels=top_re_export['Country'],\n",
    "        values=top_re_export['Total_re_export'],\n",
    "        hovertemplate='Country: %{label}<br>Total Re-Export: %{value:.2f}',\n",
    "        textposition='inside',\n",
    "        textinfo='percent+label',\n",
    "        marker=dict(colors=colors)\n",
    "    )\n",
    "])\n",
    "\n",
    "fig.update_layout(\n",
    "    title='Top Coffee Re-Exporters',\n",
    "    width=1000,\n",
    "    height=1000,\n",
    ")\n",
    "\n",
    "fig.show()\n"
   ],
   "metadata": {
    "collapsed": false,
    "ExecuteTime": {
     "end_time": "2023-06-26T13:56:15.326796Z",
     "start_time": "2023-06-26T13:56:15.277178Z"
    }
   }
  },
  {
   "cell_type": "code",
   "execution_count": 16,
   "outputs": [
    {
     "data": {
      "text/plain": "Country    Belgium    Germany     Italy    Netherlands  \\\nYear                                                     \n1990             0  197520000  22980000       35100000   \n1991             0  195120000  24120000       37980000   \n1992             0  199080000  27900000       38880000   \n1993             0  196920000  39840000       25500000   \n1994             0  208140000  47160000       40680000   \n\nCountry United States of America  \nYear                              \n1990                    49500000  \n1991                    60600000  \n1992                    82620000  \n1993                   103200000  \n1994                   154320000  ",
      "text/html": "<div>\n<style scoped>\n    .dataframe tbody tr th:only-of-type {\n        vertical-align: middle;\n    }\n\n    .dataframe tbody tr th {\n        vertical-align: top;\n    }\n\n    .dataframe thead th {\n        text-align: right;\n    }\n</style>\n<table border=\"1\" class=\"dataframe\">\n  <thead>\n    <tr style=\"text-align: right;\">\n      <th>Country</th>\n      <th>Belgium</th>\n      <th>Germany</th>\n      <th>Italy</th>\n      <th>Netherlands</th>\n      <th>United States of America</th>\n    </tr>\n    <tr>\n      <th>Year</th>\n      <th></th>\n      <th></th>\n      <th></th>\n      <th></th>\n      <th></th>\n    </tr>\n  </thead>\n  <tbody>\n    <tr>\n      <th>1990</th>\n      <td>0</td>\n      <td>197520000</td>\n      <td>22980000</td>\n      <td>35100000</td>\n      <td>49500000</td>\n    </tr>\n    <tr>\n      <th>1991</th>\n      <td>0</td>\n      <td>195120000</td>\n      <td>24120000</td>\n      <td>37980000</td>\n      <td>60600000</td>\n    </tr>\n    <tr>\n      <th>1992</th>\n      <td>0</td>\n      <td>199080000</td>\n      <td>27900000</td>\n      <td>38880000</td>\n      <td>82620000</td>\n    </tr>\n    <tr>\n      <th>1993</th>\n      <td>0</td>\n      <td>196920000</td>\n      <td>39840000</td>\n      <td>25500000</td>\n      <td>103200000</td>\n    </tr>\n    <tr>\n      <th>1994</th>\n      <td>0</td>\n      <td>208140000</td>\n      <td>47160000</td>\n      <td>40680000</td>\n      <td>154320000</td>\n    </tr>\n  </tbody>\n</table>\n</div>"
     },
     "execution_count": 16,
     "metadata": {},
     "output_type": "execute_result"
    }
   ],
   "source": [
    "top_re_export1 = re_export[['Country', 'Total_re_export']].sort_values(by=['Total_re_export'], ascending=False).head(5)\n",
    "top_re_exporter = re_export[re_export.Country.isin(top_re_export1['Country'].unique())]\n",
    "top_re_exporter = top_re_exporter.T\n",
    "top_re_exporter.columns = top_re_exporter.loc['Country']\n",
    "top_re_exporter.drop(['Country', 'Total_re_export'], axis=0, inplace=True)\n",
    "top_re_exporter.index.name = 'Year'\n",
    "top_re_exporter.head()"
   ],
   "metadata": {
    "collapsed": false,
    "ExecuteTime": {
     "end_time": "2023-06-26T13:59:14.461419Z",
     "start_time": "2023-06-26T13:59:14.460927Z"
    }
   }
  },
  {
   "cell_type": "code",
   "execution_count": 17,
   "outputs": [
    {
     "data": {
      "application/vnd.plotly.v1+json": {
       "data": [
        {
         "hovertemplate": "variable=   Belgium<br>Year=%{x}<br>Re-Export=%{y}<extra></extra>",
         "legendgroup": "   Belgium",
         "line": {
          "color": "#636efa",
          "dash": "solid"
         },
         "marker": {
          "symbol": "circle"
         },
         "mode": "lines",
         "name": "   Belgium",
         "orientation": "v",
         "showlegend": true,
         "x": [
          "1990",
          "1991",
          "1992",
          "1993",
          "1994",
          "1995",
          "1996",
          "1997",
          "1998",
          "1999",
          "2000",
          "2001",
          "2002",
          "2003",
          "2004",
          "2005",
          "2006",
          "2007",
          "2008",
          "2009",
          "2010",
          "2011",
          "2012",
          "2013",
          "2014",
          "2015",
          "2016",
          "2017",
          "2018",
          "2019"
         ],
         "xaxis": "x",
         "y": [
          0,
          0,
          0,
          0,
          0,
          0,
          0,
          0,
          0,
          130140000,
          141420000,
          139440000,
          138480000,
          134280000,
          154320000,
          174300000,
          184020000,
          174660000,
          368520000,
          298860000,
          303180000,
          293640000,
          285240000,
          255420000,
          237180000,
          267600000,
          273000000,
          262620000,
          262620000,
          300840000
         ],
         "yaxis": "y",
         "type": "scatter"
        },
        {
         "hovertemplate": "variable=   Germany<br>Year=%{x}<br>Re-Export=%{y}<extra></extra>",
         "legendgroup": "   Germany",
         "line": {
          "color": "#EF553B",
          "dash": "solid"
         },
         "marker": {
          "symbol": "circle"
         },
         "mode": "lines",
         "name": "   Germany",
         "orientation": "v",
         "showlegend": true,
         "x": [
          "1990",
          "1991",
          "1992",
          "1993",
          "1994",
          "1995",
          "1996",
          "1997",
          "1998",
          "1999",
          "2000",
          "2001",
          "2002",
          "2003",
          "2004",
          "2005",
          "2006",
          "2007",
          "2008",
          "2009",
          "2010",
          "2011",
          "2012",
          "2013",
          "2014",
          "2015",
          "2016",
          "2017",
          "2018",
          "2019"
         ],
         "xaxis": "x",
         "y": [
          197520000,
          195120000,
          199080000,
          196920000,
          208140000,
          193200000,
          216780000,
          236100000,
          243780000,
          238320000,
          289500000,
          320640000,
          377280000,
          391080000,
          420660000,
          501360000,
          550620000,
          641820000,
          628260000,
          649140000,
          692520000,
          700980000,
          755400000,
          721200000,
          774660000,
          749760000,
          798780000,
          816000000,
          826200000,
          828060000
         ],
         "yaxis": "y",
         "type": "scatter"
        },
        {
         "hovertemplate": "variable=   Italy<br>Year=%{x}<br>Re-Export=%{y}<extra></extra>",
         "legendgroup": "   Italy",
         "line": {
          "color": "#00cc96",
          "dash": "solid"
         },
         "marker": {
          "symbol": "circle"
         },
         "mode": "lines",
         "name": "   Italy",
         "orientation": "v",
         "showlegend": true,
         "x": [
          "1990",
          "1991",
          "1992",
          "1993",
          "1994",
          "1995",
          "1996",
          "1997",
          "1998",
          "1999",
          "2000",
          "2001",
          "2002",
          "2003",
          "2004",
          "2005",
          "2006",
          "2007",
          "2008",
          "2009",
          "2010",
          "2011",
          "2012",
          "2013",
          "2014",
          "2015",
          "2016",
          "2017",
          "2018",
          "2019"
         ],
         "xaxis": "x",
         "y": [
          22980000,
          24120000,
          27900000,
          39840000,
          47160000,
          44940000,
          49560000,
          49560000,
          56760000,
          61380000,
          69360000,
          77400000,
          80460000,
          84600000,
          93540000,
          102480000,
          116280000,
          131280000,
          136620000,
          136320000,
          146760000,
          159780000,
          177840000,
          190980000,
          208140000,
          220140000,
          251580000,
          265020000,
          279540000,
          326280000
         ],
         "yaxis": "y",
         "type": "scatter"
        },
        {
         "hovertemplate": "variable=   Netherlands<br>Year=%{x}<br>Re-Export=%{y}<extra></extra>",
         "legendgroup": "   Netherlands",
         "line": {
          "color": "#ab63fa",
          "dash": "solid"
         },
         "marker": {
          "symbol": "circle"
         },
         "mode": "lines",
         "name": "   Netherlands",
         "orientation": "v",
         "showlegend": true,
         "x": [
          "1990",
          "1991",
          "1992",
          "1993",
          "1994",
          "1995",
          "1996",
          "1997",
          "1998",
          "1999",
          "2000",
          "2001",
          "2002",
          "2003",
          "2004",
          "2005",
          "2006",
          "2007",
          "2008",
          "2009",
          "2010",
          "2011",
          "2012",
          "2013",
          "2014",
          "2015",
          "2016",
          "2017",
          "2018",
          "2019"
         ],
         "xaxis": "x",
         "y": [
          35100000,
          37980000,
          38880000,
          25500000,
          40680000,
          37020000,
          34500000,
          33420000,
          54060000,
          65640000,
          66360000,
          67020000,
          71160000,
          85980000,
          70860000,
          63660000,
          69840000,
          74340000,
          58860000,
          96240000,
          74160000,
          106140000,
          80820000,
          106860000,
          132960000,
          148800000,
          162120000,
          186240000,
          202560000,
          199440000
         ],
         "yaxis": "y",
         "type": "scatter"
        },
        {
         "hovertemplate": "variable=United States of America<br>Year=%{x}<br>Re-Export=%{y}<extra></extra>",
         "legendgroup": "United States of America",
         "line": {
          "color": "#FFA15A",
          "dash": "solid"
         },
         "marker": {
          "symbol": "circle"
         },
         "mode": "lines",
         "name": "United States of America",
         "orientation": "v",
         "showlegend": true,
         "x": [
          "1990",
          "1991",
          "1992",
          "1993",
          "1994",
          "1995",
          "1996",
          "1997",
          "1998",
          "1999",
          "2000",
          "2001",
          "2002",
          "2003",
          "2004",
          "2005",
          "2006",
          "2007",
          "2008",
          "2009",
          "2010",
          "2011",
          "2012",
          "2013",
          "2014",
          "2015",
          "2016",
          "2017",
          "2018",
          "2019"
         ],
         "xaxis": "x",
         "y": [
          49500000,
          60600000,
          82620000,
          103200000,
          154320000,
          110460000,
          122940000,
          146760000,
          146820000,
          130080000,
          123300000,
          123360000,
          131520000,
          167880000,
          157560000,
          147120000,
          163260000,
          162420000,
          171660000,
          168120000,
          191460000,
          223680000,
          203040000,
          194880000,
          201660000,
          177480000,
          190500000,
          175800000,
          174120000,
          170520000
         ],
         "yaxis": "y",
         "type": "scatter"
        }
       ],
       "layout": {
        "template": {
         "data": {
          "histogram2dcontour": [
           {
            "type": "histogram2dcontour",
            "colorbar": {
             "outlinewidth": 0,
             "ticks": ""
            },
            "colorscale": [
             [
              0.0,
              "#0d0887"
             ],
             [
              0.1111111111111111,
              "#46039f"
             ],
             [
              0.2222222222222222,
              "#7201a8"
             ],
             [
              0.3333333333333333,
              "#9c179e"
             ],
             [
              0.4444444444444444,
              "#bd3786"
             ],
             [
              0.5555555555555556,
              "#d8576b"
             ],
             [
              0.6666666666666666,
              "#ed7953"
             ],
             [
              0.7777777777777778,
              "#fb9f3a"
             ],
             [
              0.8888888888888888,
              "#fdca26"
             ],
             [
              1.0,
              "#f0f921"
             ]
            ]
           }
          ],
          "choropleth": [
           {
            "type": "choropleth",
            "colorbar": {
             "outlinewidth": 0,
             "ticks": ""
            }
           }
          ],
          "histogram2d": [
           {
            "type": "histogram2d",
            "colorbar": {
             "outlinewidth": 0,
             "ticks": ""
            },
            "colorscale": [
             [
              0.0,
              "#0d0887"
             ],
             [
              0.1111111111111111,
              "#46039f"
             ],
             [
              0.2222222222222222,
              "#7201a8"
             ],
             [
              0.3333333333333333,
              "#9c179e"
             ],
             [
              0.4444444444444444,
              "#bd3786"
             ],
             [
              0.5555555555555556,
              "#d8576b"
             ],
             [
              0.6666666666666666,
              "#ed7953"
             ],
             [
              0.7777777777777778,
              "#fb9f3a"
             ],
             [
              0.8888888888888888,
              "#fdca26"
             ],
             [
              1.0,
              "#f0f921"
             ]
            ]
           }
          ],
          "heatmap": [
           {
            "type": "heatmap",
            "colorbar": {
             "outlinewidth": 0,
             "ticks": ""
            },
            "colorscale": [
             [
              0.0,
              "#0d0887"
             ],
             [
              0.1111111111111111,
              "#46039f"
             ],
             [
              0.2222222222222222,
              "#7201a8"
             ],
             [
              0.3333333333333333,
              "#9c179e"
             ],
             [
              0.4444444444444444,
              "#bd3786"
             ],
             [
              0.5555555555555556,
              "#d8576b"
             ],
             [
              0.6666666666666666,
              "#ed7953"
             ],
             [
              0.7777777777777778,
              "#fb9f3a"
             ],
             [
              0.8888888888888888,
              "#fdca26"
             ],
             [
              1.0,
              "#f0f921"
             ]
            ]
           }
          ],
          "heatmapgl": [
           {
            "type": "heatmapgl",
            "colorbar": {
             "outlinewidth": 0,
             "ticks": ""
            },
            "colorscale": [
             [
              0.0,
              "#0d0887"
             ],
             [
              0.1111111111111111,
              "#46039f"
             ],
             [
              0.2222222222222222,
              "#7201a8"
             ],
             [
              0.3333333333333333,
              "#9c179e"
             ],
             [
              0.4444444444444444,
              "#bd3786"
             ],
             [
              0.5555555555555556,
              "#d8576b"
             ],
             [
              0.6666666666666666,
              "#ed7953"
             ],
             [
              0.7777777777777778,
              "#fb9f3a"
             ],
             [
              0.8888888888888888,
              "#fdca26"
             ],
             [
              1.0,
              "#f0f921"
             ]
            ]
           }
          ],
          "contourcarpet": [
           {
            "type": "contourcarpet",
            "colorbar": {
             "outlinewidth": 0,
             "ticks": ""
            }
           }
          ],
          "contour": [
           {
            "type": "contour",
            "colorbar": {
             "outlinewidth": 0,
             "ticks": ""
            },
            "colorscale": [
             [
              0.0,
              "#0d0887"
             ],
             [
              0.1111111111111111,
              "#46039f"
             ],
             [
              0.2222222222222222,
              "#7201a8"
             ],
             [
              0.3333333333333333,
              "#9c179e"
             ],
             [
              0.4444444444444444,
              "#bd3786"
             ],
             [
              0.5555555555555556,
              "#d8576b"
             ],
             [
              0.6666666666666666,
              "#ed7953"
             ],
             [
              0.7777777777777778,
              "#fb9f3a"
             ],
             [
              0.8888888888888888,
              "#fdca26"
             ],
             [
              1.0,
              "#f0f921"
             ]
            ]
           }
          ],
          "surface": [
           {
            "type": "surface",
            "colorbar": {
             "outlinewidth": 0,
             "ticks": ""
            },
            "colorscale": [
             [
              0.0,
              "#0d0887"
             ],
             [
              0.1111111111111111,
              "#46039f"
             ],
             [
              0.2222222222222222,
              "#7201a8"
             ],
             [
              0.3333333333333333,
              "#9c179e"
             ],
             [
              0.4444444444444444,
              "#bd3786"
             ],
             [
              0.5555555555555556,
              "#d8576b"
             ],
             [
              0.6666666666666666,
              "#ed7953"
             ],
             [
              0.7777777777777778,
              "#fb9f3a"
             ],
             [
              0.8888888888888888,
              "#fdca26"
             ],
             [
              1.0,
              "#f0f921"
             ]
            ]
           }
          ],
          "mesh3d": [
           {
            "type": "mesh3d",
            "colorbar": {
             "outlinewidth": 0,
             "ticks": ""
            }
           }
          ],
          "scatter": [
           {
            "marker": {
             "line": {
              "color": "#283442"
             }
            },
            "type": "scatter"
           }
          ],
          "parcoords": [
           {
            "type": "parcoords",
            "line": {
             "colorbar": {
              "outlinewidth": 0,
              "ticks": ""
             }
            }
           }
          ],
          "scatterpolargl": [
           {
            "type": "scatterpolargl",
            "marker": {
             "colorbar": {
              "outlinewidth": 0,
              "ticks": ""
             }
            }
           }
          ],
          "bar": [
           {
            "error_x": {
             "color": "#f2f5fa"
            },
            "error_y": {
             "color": "#f2f5fa"
            },
            "marker": {
             "line": {
              "color": "rgb(17,17,17)",
              "width": 0.5
             },
             "pattern": {
              "fillmode": "overlay",
              "size": 10,
              "solidity": 0.2
             }
            },
            "type": "bar"
           }
          ],
          "scattergeo": [
           {
            "type": "scattergeo",
            "marker": {
             "colorbar": {
              "outlinewidth": 0,
              "ticks": ""
             }
            }
           }
          ],
          "scatterpolar": [
           {
            "type": "scatterpolar",
            "marker": {
             "colorbar": {
              "outlinewidth": 0,
              "ticks": ""
             }
            }
           }
          ],
          "histogram": [
           {
            "marker": {
             "pattern": {
              "fillmode": "overlay",
              "size": 10,
              "solidity": 0.2
             }
            },
            "type": "histogram"
           }
          ],
          "scattergl": [
           {
            "marker": {
             "line": {
              "color": "#283442"
             }
            },
            "type": "scattergl"
           }
          ],
          "scatter3d": [
           {
            "type": "scatter3d",
            "line": {
             "colorbar": {
              "outlinewidth": 0,
              "ticks": ""
             }
            },
            "marker": {
             "colorbar": {
              "outlinewidth": 0,
              "ticks": ""
             }
            }
           }
          ],
          "scattermapbox": [
           {
            "type": "scattermapbox",
            "marker": {
             "colorbar": {
              "outlinewidth": 0,
              "ticks": ""
             }
            }
           }
          ],
          "scatterternary": [
           {
            "type": "scatterternary",
            "marker": {
             "colorbar": {
              "outlinewidth": 0,
              "ticks": ""
             }
            }
           }
          ],
          "scattercarpet": [
           {
            "type": "scattercarpet",
            "marker": {
             "colorbar": {
              "outlinewidth": 0,
              "ticks": ""
             }
            }
           }
          ],
          "carpet": [
           {
            "aaxis": {
             "endlinecolor": "#A2B1C6",
             "gridcolor": "#506784",
             "linecolor": "#506784",
             "minorgridcolor": "#506784",
             "startlinecolor": "#A2B1C6"
            },
            "baxis": {
             "endlinecolor": "#A2B1C6",
             "gridcolor": "#506784",
             "linecolor": "#506784",
             "minorgridcolor": "#506784",
             "startlinecolor": "#A2B1C6"
            },
            "type": "carpet"
           }
          ],
          "table": [
           {
            "cells": {
             "fill": {
              "color": "#506784"
             },
             "line": {
              "color": "rgb(17,17,17)"
             }
            },
            "header": {
             "fill": {
              "color": "#2a3f5f"
             },
             "line": {
              "color": "rgb(17,17,17)"
             }
            },
            "type": "table"
           }
          ],
          "barpolar": [
           {
            "marker": {
             "line": {
              "color": "rgb(17,17,17)",
              "width": 0.5
             },
             "pattern": {
              "fillmode": "overlay",
              "size": 10,
              "solidity": 0.2
             }
            },
            "type": "barpolar"
           }
          ],
          "pie": [
           {
            "automargin": true,
            "type": "pie"
           }
          ]
         },
         "layout": {
          "autotypenumbers": "strict",
          "colorway": [
           "#636efa",
           "#EF553B",
           "#00cc96",
           "#ab63fa",
           "#FFA15A",
           "#19d3f3",
           "#FF6692",
           "#B6E880",
           "#FF97FF",
           "#FECB52"
          ],
          "font": {
           "color": "#f2f5fa"
          },
          "hovermode": "closest",
          "hoverlabel": {
           "align": "left"
          },
          "paper_bgcolor": "rgb(17,17,17)",
          "plot_bgcolor": "rgb(17,17,17)",
          "polar": {
           "bgcolor": "rgb(17,17,17)",
           "angularaxis": {
            "gridcolor": "#506784",
            "linecolor": "#506784",
            "ticks": ""
           },
           "radialaxis": {
            "gridcolor": "#506784",
            "linecolor": "#506784",
            "ticks": ""
           }
          },
          "ternary": {
           "bgcolor": "rgb(17,17,17)",
           "aaxis": {
            "gridcolor": "#506784",
            "linecolor": "#506784",
            "ticks": ""
           },
           "baxis": {
            "gridcolor": "#506784",
            "linecolor": "#506784",
            "ticks": ""
           },
           "caxis": {
            "gridcolor": "#506784",
            "linecolor": "#506784",
            "ticks": ""
           }
          },
          "coloraxis": {
           "colorbar": {
            "outlinewidth": 0,
            "ticks": ""
           }
          },
          "colorscale": {
           "sequential": [
            [
             0.0,
             "#0d0887"
            ],
            [
             0.1111111111111111,
             "#46039f"
            ],
            [
             0.2222222222222222,
             "#7201a8"
            ],
            [
             0.3333333333333333,
             "#9c179e"
            ],
            [
             0.4444444444444444,
             "#bd3786"
            ],
            [
             0.5555555555555556,
             "#d8576b"
            ],
            [
             0.6666666666666666,
             "#ed7953"
            ],
            [
             0.7777777777777778,
             "#fb9f3a"
            ],
            [
             0.8888888888888888,
             "#fdca26"
            ],
            [
             1.0,
             "#f0f921"
            ]
           ],
           "sequentialminus": [
            [
             0.0,
             "#0d0887"
            ],
            [
             0.1111111111111111,
             "#46039f"
            ],
            [
             0.2222222222222222,
             "#7201a8"
            ],
            [
             0.3333333333333333,
             "#9c179e"
            ],
            [
             0.4444444444444444,
             "#bd3786"
            ],
            [
             0.5555555555555556,
             "#d8576b"
            ],
            [
             0.6666666666666666,
             "#ed7953"
            ],
            [
             0.7777777777777778,
             "#fb9f3a"
            ],
            [
             0.8888888888888888,
             "#fdca26"
            ],
            [
             1.0,
             "#f0f921"
            ]
           ],
           "diverging": [
            [
             0,
             "#8e0152"
            ],
            [
             0.1,
             "#c51b7d"
            ],
            [
             0.2,
             "#de77ae"
            ],
            [
             0.3,
             "#f1b6da"
            ],
            [
             0.4,
             "#fde0ef"
            ],
            [
             0.5,
             "#f7f7f7"
            ],
            [
             0.6,
             "#e6f5d0"
            ],
            [
             0.7,
             "#b8e186"
            ],
            [
             0.8,
             "#7fbc41"
            ],
            [
             0.9,
             "#4d9221"
            ],
            [
             1,
             "#276419"
            ]
           ]
          },
          "xaxis": {
           "gridcolor": "#283442",
           "linecolor": "#506784",
           "ticks": "",
           "title": {
            "standoff": 15
           },
           "zerolinecolor": "#283442",
           "automargin": true,
           "zerolinewidth": 2
          },
          "yaxis": {
           "gridcolor": "#283442",
           "linecolor": "#506784",
           "ticks": "",
           "title": {
            "standoff": 15
           },
           "zerolinecolor": "#283442",
           "automargin": true,
           "zerolinewidth": 2
          },
          "scene": {
           "xaxis": {
            "backgroundcolor": "rgb(17,17,17)",
            "gridcolor": "#506784",
            "linecolor": "#506784",
            "showbackground": true,
            "ticks": "",
            "zerolinecolor": "#C8D4E3",
            "gridwidth": 2
           },
           "yaxis": {
            "backgroundcolor": "rgb(17,17,17)",
            "gridcolor": "#506784",
            "linecolor": "#506784",
            "showbackground": true,
            "ticks": "",
            "zerolinecolor": "#C8D4E3",
            "gridwidth": 2
           },
           "zaxis": {
            "backgroundcolor": "rgb(17,17,17)",
            "gridcolor": "#506784",
            "linecolor": "#506784",
            "showbackground": true,
            "ticks": "",
            "zerolinecolor": "#C8D4E3",
            "gridwidth": 2
           }
          },
          "shapedefaults": {
           "line": {
            "color": "#f2f5fa"
           }
          },
          "annotationdefaults": {
           "arrowcolor": "#f2f5fa",
           "arrowhead": 0,
           "arrowwidth": 1
          },
          "geo": {
           "bgcolor": "rgb(17,17,17)",
           "landcolor": "rgb(17,17,17)",
           "subunitcolor": "#506784",
           "showland": true,
           "showlakes": true,
           "lakecolor": "rgb(17,17,17)"
          },
          "title": {
           "x": 0.05
          },
          "updatemenudefaults": {
           "bgcolor": "#506784",
           "borderwidth": 0
          },
          "sliderdefaults": {
           "bgcolor": "#C8D4E3",
           "borderwidth": 1,
           "bordercolor": "rgb(17,17,17)",
           "tickwidth": 0
          },
          "mapbox": {
           "style": "dark"
          }
         }
        },
        "xaxis": {
         "anchor": "y",
         "domain": [
          0.0,
          1.0
         ],
         "title": {
          "text": "Year"
         }
        },
        "yaxis": {
         "anchor": "x",
         "domain": [
          0.0,
          1.0
         ],
         "title": {
          "text": "Re-Export"
         }
        },
        "legend": {
         "title": {
          "text": "Country"
         },
         "tracegroupgap": 0
        },
        "title": {
         "text": "Top Countrywise Re-Export Rate of Coffee"
        },
        "height": 800,
        "width": 1200
       },
       "config": {
        "plotlyServerURL": "https://plot.ly"
       }
      },
      "text/html": "<div>                            <div id=\"240ec566-e808-4c2b-96b8-c75a406ec203\" class=\"plotly-graph-div\" style=\"height:800px; width:1200px;\"></div>            <script type=\"text/javascript\">                require([\"plotly\"], function(Plotly) {                    window.PLOTLYENV=window.PLOTLYENV || {};                                    if (document.getElementById(\"240ec566-e808-4c2b-96b8-c75a406ec203\")) {                    Plotly.newPlot(                        \"240ec566-e808-4c2b-96b8-c75a406ec203\",                        [{\"hovertemplate\":\"variable=   Belgium\\u003cbr\\u003eYear=%{x}\\u003cbr\\u003eRe-Export=%{y}\\u003cextra\\u003e\\u003c\\u002fextra\\u003e\",\"legendgroup\":\"   Belgium\",\"line\":{\"color\":\"#636efa\",\"dash\":\"solid\"},\"marker\":{\"symbol\":\"circle\"},\"mode\":\"lines\",\"name\":\"   Belgium\",\"orientation\":\"v\",\"showlegend\":true,\"x\":[\"1990\",\"1991\",\"1992\",\"1993\",\"1994\",\"1995\",\"1996\",\"1997\",\"1998\",\"1999\",\"2000\",\"2001\",\"2002\",\"2003\",\"2004\",\"2005\",\"2006\",\"2007\",\"2008\",\"2009\",\"2010\",\"2011\",\"2012\",\"2013\",\"2014\",\"2015\",\"2016\",\"2017\",\"2018\",\"2019\"],\"xaxis\":\"x\",\"y\":[0,0,0,0,0,0,0,0,0,130140000,141420000,139440000,138480000,134280000,154320000,174300000,184020000,174660000,368520000,298860000,303180000,293640000,285240000,255420000,237180000,267600000,273000000,262620000,262620000,300840000],\"yaxis\":\"y\",\"type\":\"scatter\"},{\"hovertemplate\":\"variable=   Germany\\u003cbr\\u003eYear=%{x}\\u003cbr\\u003eRe-Export=%{y}\\u003cextra\\u003e\\u003c\\u002fextra\\u003e\",\"legendgroup\":\"   Germany\",\"line\":{\"color\":\"#EF553B\",\"dash\":\"solid\"},\"marker\":{\"symbol\":\"circle\"},\"mode\":\"lines\",\"name\":\"   Germany\",\"orientation\":\"v\",\"showlegend\":true,\"x\":[\"1990\",\"1991\",\"1992\",\"1993\",\"1994\",\"1995\",\"1996\",\"1997\",\"1998\",\"1999\",\"2000\",\"2001\",\"2002\",\"2003\",\"2004\",\"2005\",\"2006\",\"2007\",\"2008\",\"2009\",\"2010\",\"2011\",\"2012\",\"2013\",\"2014\",\"2015\",\"2016\",\"2017\",\"2018\",\"2019\"],\"xaxis\":\"x\",\"y\":[197520000,195120000,199080000,196920000,208140000,193200000,216780000,236100000,243780000,238320000,289500000,320640000,377280000,391080000,420660000,501360000,550620000,641820000,628260000,649140000,692520000,700980000,755400000,721200000,774660000,749760000,798780000,816000000,826200000,828060000],\"yaxis\":\"y\",\"type\":\"scatter\"},{\"hovertemplate\":\"variable=   Italy\\u003cbr\\u003eYear=%{x}\\u003cbr\\u003eRe-Export=%{y}\\u003cextra\\u003e\\u003c\\u002fextra\\u003e\",\"legendgroup\":\"   Italy\",\"line\":{\"color\":\"#00cc96\",\"dash\":\"solid\"},\"marker\":{\"symbol\":\"circle\"},\"mode\":\"lines\",\"name\":\"   Italy\",\"orientation\":\"v\",\"showlegend\":true,\"x\":[\"1990\",\"1991\",\"1992\",\"1993\",\"1994\",\"1995\",\"1996\",\"1997\",\"1998\",\"1999\",\"2000\",\"2001\",\"2002\",\"2003\",\"2004\",\"2005\",\"2006\",\"2007\",\"2008\",\"2009\",\"2010\",\"2011\",\"2012\",\"2013\",\"2014\",\"2015\",\"2016\",\"2017\",\"2018\",\"2019\"],\"xaxis\":\"x\",\"y\":[22980000,24120000,27900000,39840000,47160000,44940000,49560000,49560000,56760000,61380000,69360000,77400000,80460000,84600000,93540000,102480000,116280000,131280000,136620000,136320000,146760000,159780000,177840000,190980000,208140000,220140000,251580000,265020000,279540000,326280000],\"yaxis\":\"y\",\"type\":\"scatter\"},{\"hovertemplate\":\"variable=   Netherlands\\u003cbr\\u003eYear=%{x}\\u003cbr\\u003eRe-Export=%{y}\\u003cextra\\u003e\\u003c\\u002fextra\\u003e\",\"legendgroup\":\"   Netherlands\",\"line\":{\"color\":\"#ab63fa\",\"dash\":\"solid\"},\"marker\":{\"symbol\":\"circle\"},\"mode\":\"lines\",\"name\":\"   Netherlands\",\"orientation\":\"v\",\"showlegend\":true,\"x\":[\"1990\",\"1991\",\"1992\",\"1993\",\"1994\",\"1995\",\"1996\",\"1997\",\"1998\",\"1999\",\"2000\",\"2001\",\"2002\",\"2003\",\"2004\",\"2005\",\"2006\",\"2007\",\"2008\",\"2009\",\"2010\",\"2011\",\"2012\",\"2013\",\"2014\",\"2015\",\"2016\",\"2017\",\"2018\",\"2019\"],\"xaxis\":\"x\",\"y\":[35100000,37980000,38880000,25500000,40680000,37020000,34500000,33420000,54060000,65640000,66360000,67020000,71160000,85980000,70860000,63660000,69840000,74340000,58860000,96240000,74160000,106140000,80820000,106860000,132960000,148800000,162120000,186240000,202560000,199440000],\"yaxis\":\"y\",\"type\":\"scatter\"},{\"hovertemplate\":\"variable=United States of America\\u003cbr\\u003eYear=%{x}\\u003cbr\\u003eRe-Export=%{y}\\u003cextra\\u003e\\u003c\\u002fextra\\u003e\",\"legendgroup\":\"United States of America\",\"line\":{\"color\":\"#FFA15A\",\"dash\":\"solid\"},\"marker\":{\"symbol\":\"circle\"},\"mode\":\"lines\",\"name\":\"United States of America\",\"orientation\":\"v\",\"showlegend\":true,\"x\":[\"1990\",\"1991\",\"1992\",\"1993\",\"1994\",\"1995\",\"1996\",\"1997\",\"1998\",\"1999\",\"2000\",\"2001\",\"2002\",\"2003\",\"2004\",\"2005\",\"2006\",\"2007\",\"2008\",\"2009\",\"2010\",\"2011\",\"2012\",\"2013\",\"2014\",\"2015\",\"2016\",\"2017\",\"2018\",\"2019\"],\"xaxis\":\"x\",\"y\":[49500000,60600000,82620000,103200000,154320000,110460000,122940000,146760000,146820000,130080000,123300000,123360000,131520000,167880000,157560000,147120000,163260000,162420000,171660000,168120000,191460000,223680000,203040000,194880000,201660000,177480000,190500000,175800000,174120000,170520000],\"yaxis\":\"y\",\"type\":\"scatter\"}],                        {\"template\":{\"data\":{\"histogram2dcontour\":[{\"type\":\"histogram2dcontour\",\"colorbar\":{\"outlinewidth\":0,\"ticks\":\"\"},\"colorscale\":[[0.0,\"#0d0887\"],[0.1111111111111111,\"#46039f\"],[0.2222222222222222,\"#7201a8\"],[0.3333333333333333,\"#9c179e\"],[0.4444444444444444,\"#bd3786\"],[0.5555555555555556,\"#d8576b\"],[0.6666666666666666,\"#ed7953\"],[0.7777777777777778,\"#fb9f3a\"],[0.8888888888888888,\"#fdca26\"],[1.0,\"#f0f921\"]]}],\"choropleth\":[{\"type\":\"choropleth\",\"colorbar\":{\"outlinewidth\":0,\"ticks\":\"\"}}],\"histogram2d\":[{\"type\":\"histogram2d\",\"colorbar\":{\"outlinewidth\":0,\"ticks\":\"\"},\"colorscale\":[[0.0,\"#0d0887\"],[0.1111111111111111,\"#46039f\"],[0.2222222222222222,\"#7201a8\"],[0.3333333333333333,\"#9c179e\"],[0.4444444444444444,\"#bd3786\"],[0.5555555555555556,\"#d8576b\"],[0.6666666666666666,\"#ed7953\"],[0.7777777777777778,\"#fb9f3a\"],[0.8888888888888888,\"#fdca26\"],[1.0,\"#f0f921\"]]}],\"heatmap\":[{\"type\":\"heatmap\",\"colorbar\":{\"outlinewidth\":0,\"ticks\":\"\"},\"colorscale\":[[0.0,\"#0d0887\"],[0.1111111111111111,\"#46039f\"],[0.2222222222222222,\"#7201a8\"],[0.3333333333333333,\"#9c179e\"],[0.4444444444444444,\"#bd3786\"],[0.5555555555555556,\"#d8576b\"],[0.6666666666666666,\"#ed7953\"],[0.7777777777777778,\"#fb9f3a\"],[0.8888888888888888,\"#fdca26\"],[1.0,\"#f0f921\"]]}],\"heatmapgl\":[{\"type\":\"heatmapgl\",\"colorbar\":{\"outlinewidth\":0,\"ticks\":\"\"},\"colorscale\":[[0.0,\"#0d0887\"],[0.1111111111111111,\"#46039f\"],[0.2222222222222222,\"#7201a8\"],[0.3333333333333333,\"#9c179e\"],[0.4444444444444444,\"#bd3786\"],[0.5555555555555556,\"#d8576b\"],[0.6666666666666666,\"#ed7953\"],[0.7777777777777778,\"#fb9f3a\"],[0.8888888888888888,\"#fdca26\"],[1.0,\"#f0f921\"]]}],\"contourcarpet\":[{\"type\":\"contourcarpet\",\"colorbar\":{\"outlinewidth\":0,\"ticks\":\"\"}}],\"contour\":[{\"type\":\"contour\",\"colorbar\":{\"outlinewidth\":0,\"ticks\":\"\"},\"colorscale\":[[0.0,\"#0d0887\"],[0.1111111111111111,\"#46039f\"],[0.2222222222222222,\"#7201a8\"],[0.3333333333333333,\"#9c179e\"],[0.4444444444444444,\"#bd3786\"],[0.5555555555555556,\"#d8576b\"],[0.6666666666666666,\"#ed7953\"],[0.7777777777777778,\"#fb9f3a\"],[0.8888888888888888,\"#fdca26\"],[1.0,\"#f0f921\"]]}],\"surface\":[{\"type\":\"surface\",\"colorbar\":{\"outlinewidth\":0,\"ticks\":\"\"},\"colorscale\":[[0.0,\"#0d0887\"],[0.1111111111111111,\"#46039f\"],[0.2222222222222222,\"#7201a8\"],[0.3333333333333333,\"#9c179e\"],[0.4444444444444444,\"#bd3786\"],[0.5555555555555556,\"#d8576b\"],[0.6666666666666666,\"#ed7953\"],[0.7777777777777778,\"#fb9f3a\"],[0.8888888888888888,\"#fdca26\"],[1.0,\"#f0f921\"]]}],\"mesh3d\":[{\"type\":\"mesh3d\",\"colorbar\":{\"outlinewidth\":0,\"ticks\":\"\"}}],\"scatter\":[{\"marker\":{\"line\":{\"color\":\"#283442\"}},\"type\":\"scatter\"}],\"parcoords\":[{\"type\":\"parcoords\",\"line\":{\"colorbar\":{\"outlinewidth\":0,\"ticks\":\"\"}}}],\"scatterpolargl\":[{\"type\":\"scatterpolargl\",\"marker\":{\"colorbar\":{\"outlinewidth\":0,\"ticks\":\"\"}}}],\"bar\":[{\"error_x\":{\"color\":\"#f2f5fa\"},\"error_y\":{\"color\":\"#f2f5fa\"},\"marker\":{\"line\":{\"color\":\"rgb(17,17,17)\",\"width\":0.5},\"pattern\":{\"fillmode\":\"overlay\",\"size\":10,\"solidity\":0.2}},\"type\":\"bar\"}],\"scattergeo\":[{\"type\":\"scattergeo\",\"marker\":{\"colorbar\":{\"outlinewidth\":0,\"ticks\":\"\"}}}],\"scatterpolar\":[{\"type\":\"scatterpolar\",\"marker\":{\"colorbar\":{\"outlinewidth\":0,\"ticks\":\"\"}}}],\"histogram\":[{\"marker\":{\"pattern\":{\"fillmode\":\"overlay\",\"size\":10,\"solidity\":0.2}},\"type\":\"histogram\"}],\"scattergl\":[{\"marker\":{\"line\":{\"color\":\"#283442\"}},\"type\":\"scattergl\"}],\"scatter3d\":[{\"type\":\"scatter3d\",\"line\":{\"colorbar\":{\"outlinewidth\":0,\"ticks\":\"\"}},\"marker\":{\"colorbar\":{\"outlinewidth\":0,\"ticks\":\"\"}}}],\"scattermapbox\":[{\"type\":\"scattermapbox\",\"marker\":{\"colorbar\":{\"outlinewidth\":0,\"ticks\":\"\"}}}],\"scatterternary\":[{\"type\":\"scatterternary\",\"marker\":{\"colorbar\":{\"outlinewidth\":0,\"ticks\":\"\"}}}],\"scattercarpet\":[{\"type\":\"scattercarpet\",\"marker\":{\"colorbar\":{\"outlinewidth\":0,\"ticks\":\"\"}}}],\"carpet\":[{\"aaxis\":{\"endlinecolor\":\"#A2B1C6\",\"gridcolor\":\"#506784\",\"linecolor\":\"#506784\",\"minorgridcolor\":\"#506784\",\"startlinecolor\":\"#A2B1C6\"},\"baxis\":{\"endlinecolor\":\"#A2B1C6\",\"gridcolor\":\"#506784\",\"linecolor\":\"#506784\",\"minorgridcolor\":\"#506784\",\"startlinecolor\":\"#A2B1C6\"},\"type\":\"carpet\"}],\"table\":[{\"cells\":{\"fill\":{\"color\":\"#506784\"},\"line\":{\"color\":\"rgb(17,17,17)\"}},\"header\":{\"fill\":{\"color\":\"#2a3f5f\"},\"line\":{\"color\":\"rgb(17,17,17)\"}},\"type\":\"table\"}],\"barpolar\":[{\"marker\":{\"line\":{\"color\":\"rgb(17,17,17)\",\"width\":0.5},\"pattern\":{\"fillmode\":\"overlay\",\"size\":10,\"solidity\":0.2}},\"type\":\"barpolar\"}],\"pie\":[{\"automargin\":true,\"type\":\"pie\"}]},\"layout\":{\"autotypenumbers\":\"strict\",\"colorway\":[\"#636efa\",\"#EF553B\",\"#00cc96\",\"#ab63fa\",\"#FFA15A\",\"#19d3f3\",\"#FF6692\",\"#B6E880\",\"#FF97FF\",\"#FECB52\"],\"font\":{\"color\":\"#f2f5fa\"},\"hovermode\":\"closest\",\"hoverlabel\":{\"align\":\"left\"},\"paper_bgcolor\":\"rgb(17,17,17)\",\"plot_bgcolor\":\"rgb(17,17,17)\",\"polar\":{\"bgcolor\":\"rgb(17,17,17)\",\"angularaxis\":{\"gridcolor\":\"#506784\",\"linecolor\":\"#506784\",\"ticks\":\"\"},\"radialaxis\":{\"gridcolor\":\"#506784\",\"linecolor\":\"#506784\",\"ticks\":\"\"}},\"ternary\":{\"bgcolor\":\"rgb(17,17,17)\",\"aaxis\":{\"gridcolor\":\"#506784\",\"linecolor\":\"#506784\",\"ticks\":\"\"},\"baxis\":{\"gridcolor\":\"#506784\",\"linecolor\":\"#506784\",\"ticks\":\"\"},\"caxis\":{\"gridcolor\":\"#506784\",\"linecolor\":\"#506784\",\"ticks\":\"\"}},\"coloraxis\":{\"colorbar\":{\"outlinewidth\":0,\"ticks\":\"\"}},\"colorscale\":{\"sequential\":[[0.0,\"#0d0887\"],[0.1111111111111111,\"#46039f\"],[0.2222222222222222,\"#7201a8\"],[0.3333333333333333,\"#9c179e\"],[0.4444444444444444,\"#bd3786\"],[0.5555555555555556,\"#d8576b\"],[0.6666666666666666,\"#ed7953\"],[0.7777777777777778,\"#fb9f3a\"],[0.8888888888888888,\"#fdca26\"],[1.0,\"#f0f921\"]],\"sequentialminus\":[[0.0,\"#0d0887\"],[0.1111111111111111,\"#46039f\"],[0.2222222222222222,\"#7201a8\"],[0.3333333333333333,\"#9c179e\"],[0.4444444444444444,\"#bd3786\"],[0.5555555555555556,\"#d8576b\"],[0.6666666666666666,\"#ed7953\"],[0.7777777777777778,\"#fb9f3a\"],[0.8888888888888888,\"#fdca26\"],[1.0,\"#f0f921\"]],\"diverging\":[[0,\"#8e0152\"],[0.1,\"#c51b7d\"],[0.2,\"#de77ae\"],[0.3,\"#f1b6da\"],[0.4,\"#fde0ef\"],[0.5,\"#f7f7f7\"],[0.6,\"#e6f5d0\"],[0.7,\"#b8e186\"],[0.8,\"#7fbc41\"],[0.9,\"#4d9221\"],[1,\"#276419\"]]},\"xaxis\":{\"gridcolor\":\"#283442\",\"linecolor\":\"#506784\",\"ticks\":\"\",\"title\":{\"standoff\":15},\"zerolinecolor\":\"#283442\",\"automargin\":true,\"zerolinewidth\":2},\"yaxis\":{\"gridcolor\":\"#283442\",\"linecolor\":\"#506784\",\"ticks\":\"\",\"title\":{\"standoff\":15},\"zerolinecolor\":\"#283442\",\"automargin\":true,\"zerolinewidth\":2},\"scene\":{\"xaxis\":{\"backgroundcolor\":\"rgb(17,17,17)\",\"gridcolor\":\"#506784\",\"linecolor\":\"#506784\",\"showbackground\":true,\"ticks\":\"\",\"zerolinecolor\":\"#C8D4E3\",\"gridwidth\":2},\"yaxis\":{\"backgroundcolor\":\"rgb(17,17,17)\",\"gridcolor\":\"#506784\",\"linecolor\":\"#506784\",\"showbackground\":true,\"ticks\":\"\",\"zerolinecolor\":\"#C8D4E3\",\"gridwidth\":2},\"zaxis\":{\"backgroundcolor\":\"rgb(17,17,17)\",\"gridcolor\":\"#506784\",\"linecolor\":\"#506784\",\"showbackground\":true,\"ticks\":\"\",\"zerolinecolor\":\"#C8D4E3\",\"gridwidth\":2}},\"shapedefaults\":{\"line\":{\"color\":\"#f2f5fa\"}},\"annotationdefaults\":{\"arrowcolor\":\"#f2f5fa\",\"arrowhead\":0,\"arrowwidth\":1},\"geo\":{\"bgcolor\":\"rgb(17,17,17)\",\"landcolor\":\"rgb(17,17,17)\",\"subunitcolor\":\"#506784\",\"showland\":true,\"showlakes\":true,\"lakecolor\":\"rgb(17,17,17)\"},\"title\":{\"x\":0.05},\"updatemenudefaults\":{\"bgcolor\":\"#506784\",\"borderwidth\":0},\"sliderdefaults\":{\"bgcolor\":\"#C8D4E3\",\"borderwidth\":1,\"bordercolor\":\"rgb(17,17,17)\",\"tickwidth\":0},\"mapbox\":{\"style\":\"dark\"}}},\"xaxis\":{\"anchor\":\"y\",\"domain\":[0.0,1.0],\"title\":{\"text\":\"Year\"}},\"yaxis\":{\"anchor\":\"x\",\"domain\":[0.0,1.0],\"title\":{\"text\":\"Re-Export\"}},\"legend\":{\"title\":{\"text\":\"Country\"},\"tracegroupgap\":0},\"title\":{\"text\":\"Top Countrywise Re-Export Rate of Coffee\"},\"height\":800,\"width\":1200},                        {\"responsive\": true}                    ).then(function(){\n                            \nvar gd = document.getElementById('240ec566-e808-4c2b-96b8-c75a406ec203');\nvar x = new MutationObserver(function (mutations, observer) {{\n        var display = window.getComputedStyle(gd).display;\n        if (!display || display === 'none') {{\n            console.log([gd, 'removed!']);\n            Plotly.purge(gd);\n            observer.disconnect();\n        }}\n}});\n\n// Listen for the removal of the full notebook cells\nvar notebookContainer = gd.closest('#notebook-container');\nif (notebookContainer) {{\n    x.observe(notebookContainer, {childList: true});\n}}\n\n// Listen for the clearing of the current output cell\nvar outputEl = gd.closest('.output');\nif (outputEl) {{\n    x.observe(outputEl, {childList: true});\n}}\n\n                        })                };                });            </script>        </div>"
     },
     "metadata": {},
     "output_type": "display_data"
    }
   ],
   "source": [
    "fig = px.line(top_re_exporter, x = top_re_exporter.index, y= top_re_exporter.columns[0:],labels={\n",
    "    \"Country\": \"Countries\",\n",
    "    \"value\": \"Re-Export\"}, title='Top Countrywise Re-Export Rate of Coffee', width=1200, height=800)\n",
    "fig.update_layout(legend_title_text=\"Country\")\n",
    "\n",
    "fig.show()"
   ],
   "metadata": {
    "collapsed": false,
    "ExecuteTime": {
     "end_time": "2023-06-26T13:59:20.471870Z",
     "start_time": "2023-06-26T13:59:20.373571Z"
    }
   }
  },
  {
   "cell_type": "code",
   "execution_count": null,
   "outputs": [],
   "source": [],
   "metadata": {
    "collapsed": false
   }
  }
 ],
 "metadata": {
  "kernelspec": {
   "display_name": "Python 3",
   "language": "python",
   "name": "python3"
  },
  "language_info": {
   "codemirror_mode": {
    "name": "ipython",
    "version": 2
   },
   "file_extension": ".py",
   "mimetype": "text/x-python",
   "name": "python",
   "nbconvert_exporter": "python",
   "pygments_lexer": "ipython2",
   "version": "2.7.6"
  }
 },
 "nbformat": 4,
 "nbformat_minor": 0
}
